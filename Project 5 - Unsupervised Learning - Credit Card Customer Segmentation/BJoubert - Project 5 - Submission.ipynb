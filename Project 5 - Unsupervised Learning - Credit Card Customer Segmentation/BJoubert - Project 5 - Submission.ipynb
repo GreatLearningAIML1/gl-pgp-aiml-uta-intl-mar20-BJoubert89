{
 "cells": [
  {
   "cell_type": "markdown",
   "metadata": {},
   "source": [
    "# Bevan Joubert"
   ]
  },
  {
   "cell_type": "markdown",
   "metadata": {},
   "source": [
    "## Project 5 - Unsupervised Learning"
   ]
  },
  {
   "cell_type": "code",
   "execution_count": 1,
   "metadata": {},
   "outputs": [
    {
     "name": "stderr",
     "output_type": "stream",
     "text": [
      "C:\\Anaconda3\\lib\\site-packages\\statsmodels\\tools\\_testing.py:19: FutureWarning: pandas.util.testing is deprecated. Use the functions in the public API at pandas.testing instead.\n",
      "  import pandas.util.testing as tm\n"
     ]
    },
    {
     "data": {
      "text/html": [
       "<style>.container { width:90% !important; }</style>"
      ],
      "text/plain": [
       "<IPython.core.display.HTML object>"
      ]
     },
     "metadata": {},
     "output_type": "display_data"
    }
   ],
   "source": [
    "# Import all the required packages.\n",
    "# Basic packages\n",
    "import numpy as np\n",
    "import pandas as pd\n",
    "import matplotlib.pyplot as plt\n",
    "import seaborn as sns\n",
    "# Data preparation.\n",
    "from sklearn.preprocessing import StandardScaler\n",
    "from sklearn.decomposition import PCA\n",
    "from scipy.stats import zscore\n",
    "# K-Means Clustering\n",
    "from sklearn.cluster import KMeans\n",
    "from scipy.spatial.distance import cdist\n",
    "# Hierarchical Clustering\n",
    "from sklearn.cluster import AgglomerativeClustering\n",
    "from scipy.cluster.hierarchy import cophenet, dendrogram, linkage\n",
    "from scipy.spatial.distance import pdist\n",
    "from sklearn.metrics import silhouette_score\n",
    "# Do some formatting of the page.\n",
    "from IPython.core.interactiveshell import InteractiveShell\n",
    "pd.options.display.float_format = '{:,.2f}'.format\n",
    "from IPython.core.display import display, HTML\n",
    "display(HTML(\"<style>.container { width:90% !important; }</style>\"))\n",
    "pd.set_option('display.max_columns', None)\n",
    "pd.set_option('display.float_format', '{:0.4f}'.format)"
   ]
  },
  {
   "cell_type": "code",
   "execution_count": 2,
   "metadata": {},
   "outputs": [
    {
     "data": {
      "text/html": [
       "<div>\n",
       "<style scoped>\n",
       "    .dataframe tbody tr th:only-of-type {\n",
       "        vertical-align: middle;\n",
       "    }\n",
       "\n",
       "    .dataframe tbody tr th {\n",
       "        vertical-align: top;\n",
       "    }\n",
       "\n",
       "    .dataframe thead th {\n",
       "        text-align: right;\n",
       "    }\n",
       "</style>\n",
       "<table border=\"1\" class=\"dataframe\">\n",
       "  <thead>\n",
       "    <tr style=\"text-align: right;\">\n",
       "      <th></th>\n",
       "      <th>Sl_No</th>\n",
       "      <th>Customer Key</th>\n",
       "      <th>Avg_Credit_Limit</th>\n",
       "      <th>Total_Credit_Cards</th>\n",
       "      <th>Total_visits_bank</th>\n",
       "      <th>Total_visits_online</th>\n",
       "      <th>Total_calls_made</th>\n",
       "    </tr>\n",
       "  </thead>\n",
       "  <tbody>\n",
       "    <tr>\n",
       "      <th>0</th>\n",
       "      <td>1</td>\n",
       "      <td>87073</td>\n",
       "      <td>100000</td>\n",
       "      <td>2</td>\n",
       "      <td>1</td>\n",
       "      <td>1</td>\n",
       "      <td>0</td>\n",
       "    </tr>\n",
       "    <tr>\n",
       "      <th>1</th>\n",
       "      <td>2</td>\n",
       "      <td>38414</td>\n",
       "      <td>50000</td>\n",
       "      <td>3</td>\n",
       "      <td>0</td>\n",
       "      <td>10</td>\n",
       "      <td>9</td>\n",
       "    </tr>\n",
       "    <tr>\n",
       "      <th>2</th>\n",
       "      <td>3</td>\n",
       "      <td>17341</td>\n",
       "      <td>50000</td>\n",
       "      <td>7</td>\n",
       "      <td>1</td>\n",
       "      <td>3</td>\n",
       "      <td>4</td>\n",
       "    </tr>\n",
       "    <tr>\n",
       "      <th>3</th>\n",
       "      <td>4</td>\n",
       "      <td>40496</td>\n",
       "      <td>30000</td>\n",
       "      <td>5</td>\n",
       "      <td>1</td>\n",
       "      <td>1</td>\n",
       "      <td>4</td>\n",
       "    </tr>\n",
       "    <tr>\n",
       "      <th>4</th>\n",
       "      <td>5</td>\n",
       "      <td>47437</td>\n",
       "      <td>100000</td>\n",
       "      <td>6</td>\n",
       "      <td>0</td>\n",
       "      <td>12</td>\n",
       "      <td>3</td>\n",
       "    </tr>\n",
       "  </tbody>\n",
       "</table>\n",
       "</div>"
      ],
      "text/plain": [
       "   Sl_No  Customer Key  Avg_Credit_Limit  Total_Credit_Cards  \\\n",
       "0      1         87073            100000                   2   \n",
       "1      2         38414             50000                   3   \n",
       "2      3         17341             50000                   7   \n",
       "3      4         40496             30000                   5   \n",
       "4      5         47437            100000                   6   \n",
       "\n",
       "   Total_visits_bank  Total_visits_online  Total_calls_made  \n",
       "0                  1                    1                 0  \n",
       "1                  0                   10                 9  \n",
       "2                  1                    3                 4  \n",
       "3                  1                    1                 4  \n",
       "4                  0                   12                 3  "
      ]
     },
     "execution_count": 2,
     "metadata": {},
     "output_type": "execute_result"
    }
   ],
   "source": [
    "# Import the dataset.\n",
    "customerData = pd.read_excel('Credit Card Customer Data.xlsx')\n",
    "customerData.head()"
   ]
  },
  {
   "cell_type": "code",
   "execution_count": 3,
   "metadata": {},
   "outputs": [
    {
     "data": {
      "text/plain": [
       "(660, 7)"
      ]
     },
     "execution_count": 3,
     "metadata": {},
     "output_type": "execute_result"
    }
   ],
   "source": [
    "customerData.shape"
   ]
  },
  {
   "cell_type": "markdown",
   "metadata": {},
   "source": [
    "### Univariate Analysis"
   ]
  },
  {
   "cell_type": "code",
   "execution_count": 4,
   "metadata": {},
   "outputs": [
    {
     "name": "stdout",
     "output_type": "stream",
     "text": [
      "<class 'pandas.core.frame.DataFrame'>\n",
      "RangeIndex: 660 entries, 0 to 659\n",
      "Data columns (total 7 columns):\n",
      " #   Column               Non-Null Count  Dtype\n",
      "---  ------               --------------  -----\n",
      " 0   Sl_No                660 non-null    int64\n",
      " 1   Customer Key         660 non-null    int64\n",
      " 2   Avg_Credit_Limit     660 non-null    int64\n",
      " 3   Total_Credit_Cards   660 non-null    int64\n",
      " 4   Total_visits_bank    660 non-null    int64\n",
      " 5   Total_visits_online  660 non-null    int64\n",
      " 6   Total_calls_made     660 non-null    int64\n",
      "dtypes: int64(7)\n",
      "memory usage: 36.2 KB\n"
     ]
    }
   ],
   "source": [
    "customerData.info()"
   ]
  },
  {
   "cell_type": "code",
   "execution_count": 5,
   "metadata": {},
   "outputs": [],
   "source": [
    "# All features are numerical.\n",
    "# All features are continuous, but can only take on integer values."
   ]
  },
  {
   "cell_type": "code",
   "execution_count": 6,
   "metadata": {},
   "outputs": [
    {
     "data": {
      "text/plain": [
       "Sl_No                  0\n",
       "Customer Key           0\n",
       "Avg_Credit_Limit       0\n",
       "Total_Credit_Cards     0\n",
       "Total_visits_bank      0\n",
       "Total_visits_online    0\n",
       "Total_calls_made       0\n",
       "dtype: int64"
      ]
     },
     "execution_count": 6,
     "metadata": {},
     "output_type": "execute_result"
    }
   ],
   "source": [
    "# Check for any null values.\n",
    "customerData.isnull().sum()"
   ]
  },
  {
   "cell_type": "code",
   "execution_count": 7,
   "metadata": {},
   "outputs": [
    {
     "data": {
      "text/plain": [
       "Sl_No                    0\n",
       "Customer Key             0\n",
       "Avg_Credit_Limit         0\n",
       "Total_Credit_Cards       0\n",
       "Total_visits_bank      100\n",
       "Total_visits_online    144\n",
       "Total_calls_made        97\n",
       "dtype: int64"
      ]
     },
     "execution_count": 7,
     "metadata": {},
     "output_type": "execute_result"
    }
   ],
   "source": [
    "# Check how many records contain 0 values for each of the columns.\n",
    "customerData.isin([0]).sum()"
   ]
  },
  {
   "cell_type": "code",
   "execution_count": 8,
   "metadata": {},
   "outputs": [],
   "source": [
    "# There are no null values.\n",
    "# There are 0 values, but these 0 values are practical and do not seem to be errenious.\n",
    "# It does not seem that there are any missing values."
   ]
  },
  {
   "cell_type": "code",
   "execution_count": 9,
   "metadata": {},
   "outputs": [
    {
     "data": {
      "text/plain": [
       "0"
      ]
     },
     "execution_count": 9,
     "metadata": {},
     "output_type": "execute_result"
    }
   ],
   "source": [
    "# Check for duplicate records.\n",
    "customerData.drop('Sl_No', axis='columns').duplicated().sum()"
   ]
  },
  {
   "cell_type": "code",
   "execution_count": 10,
   "metadata": {},
   "outputs": [
    {
     "data": {
      "text/plain": [
       "Sl_No                  660\n",
       "Customer Key           655\n",
       "Avg_Credit_Limit       110\n",
       "Total_Credit_Cards      10\n",
       "Total_visits_bank        6\n",
       "Total_visits_online     16\n",
       "Total_calls_made        11\n",
       "dtype: int64"
      ]
     },
     "execution_count": 10,
     "metadata": {},
     "output_type": "execute_result"
    }
   ],
   "source": [
    "customerData.nunique()"
   ]
  },
  {
   "cell_type": "code",
   "execution_count": 11,
   "metadata": {},
   "outputs": [],
   "source": [
    "# You would expect Customer Key to have 660 entries, as this should be unique for each customer.\n",
    "# Investiagte the records which have duplicate values of Customer Key."
   ]
  },
  {
   "cell_type": "code",
   "execution_count": 12,
   "metadata": {},
   "outputs": [
    {
     "data": {
      "text/plain": [
       "47437    2\n",
       "37252    2\n",
       "97935    2\n",
       "96929    2\n",
       "50706    2\n",
       "75775    1\n",
       "43679    1\n",
       "33295    1\n",
       "67911    1\n",
       "94529    1\n",
       "Name: Customer Key, dtype: int64"
      ]
     },
     "execution_count": 12,
     "metadata": {},
     "output_type": "execute_result"
    }
   ],
   "source": [
    "# Check which customer keys have more than one entry.\n",
    "customerData['Customer Key'].value_counts().head(10)"
   ]
  },
  {
   "cell_type": "code",
   "execution_count": 13,
   "metadata": {},
   "outputs": [],
   "source": [
    "multCustomerKeys = customerData.groupby(['Customer Key']).count().sort_values(by=\"Sl_No\", ascending = False)[0:5].index.tolist()"
   ]
  },
  {
   "cell_type": "code",
   "execution_count": 14,
   "metadata": {},
   "outputs": [
    {
     "data": {
      "text/plain": [
       "[96929, 97935, 37252, 50706, 47437]"
      ]
     },
     "execution_count": 14,
     "metadata": {},
     "output_type": "execute_result"
    }
   ],
   "source": [
    "multCustomerKeys"
   ]
  },
  {
   "cell_type": "code",
   "execution_count": 15,
   "metadata": {},
   "outputs": [],
   "source": [
    "multCustomerKeys_df = customerData[customerData['Customer Key'] == multCustomerKeys[0]]\n",
    "for customerKey in multCustomerKeys:\n",
    "    multCustomerKeys_df = multCustomerKeys_df.append(customerData[customerData['Customer Key'] == customerKey])\n",
    "multCustomerKeys_df.drop_duplicates(inplace=True)"
   ]
  },
  {
   "cell_type": "code",
   "execution_count": 16,
   "metadata": {},
   "outputs": [
    {
     "data": {
      "text/html": [
       "<div>\n",
       "<style scoped>\n",
       "    .dataframe tbody tr th:only-of-type {\n",
       "        vertical-align: middle;\n",
       "    }\n",
       "\n",
       "    .dataframe tbody tr th {\n",
       "        vertical-align: top;\n",
       "    }\n",
       "\n",
       "    .dataframe thead th {\n",
       "        text-align: right;\n",
       "    }\n",
       "</style>\n",
       "<table border=\"1\" class=\"dataframe\">\n",
       "  <thead>\n",
       "    <tr style=\"text-align: right;\">\n",
       "      <th></th>\n",
       "      <th>Sl_No</th>\n",
       "      <th>Customer Key</th>\n",
       "      <th>Avg_Credit_Limit</th>\n",
       "      <th>Total_Credit_Cards</th>\n",
       "      <th>Total_visits_bank</th>\n",
       "      <th>Total_visits_online</th>\n",
       "      <th>Total_calls_made</th>\n",
       "    </tr>\n",
       "  </thead>\n",
       "  <tbody>\n",
       "    <tr>\n",
       "      <th>391</th>\n",
       "      <td>392</td>\n",
       "      <td>96929</td>\n",
       "      <td>13000</td>\n",
       "      <td>4</td>\n",
       "      <td>5</td>\n",
       "      <td>0</td>\n",
       "      <td>0</td>\n",
       "    </tr>\n",
       "    <tr>\n",
       "      <th>398</th>\n",
       "      <td>399</td>\n",
       "      <td>96929</td>\n",
       "      <td>67000</td>\n",
       "      <td>6</td>\n",
       "      <td>2</td>\n",
       "      <td>2</td>\n",
       "      <td>2</td>\n",
       "    </tr>\n",
       "    <tr>\n",
       "      <th>104</th>\n",
       "      <td>105</td>\n",
       "      <td>97935</td>\n",
       "      <td>17000</td>\n",
       "      <td>2</td>\n",
       "      <td>1</td>\n",
       "      <td>2</td>\n",
       "      <td>10</td>\n",
       "    </tr>\n",
       "    <tr>\n",
       "      <th>632</th>\n",
       "      <td>633</td>\n",
       "      <td>97935</td>\n",
       "      <td>187000</td>\n",
       "      <td>7</td>\n",
       "      <td>1</td>\n",
       "      <td>7</td>\n",
       "      <td>0</td>\n",
       "    </tr>\n",
       "    <tr>\n",
       "      <th>48</th>\n",
       "      <td>49</td>\n",
       "      <td>37252</td>\n",
       "      <td>6000</td>\n",
       "      <td>4</td>\n",
       "      <td>0</td>\n",
       "      <td>2</td>\n",
       "      <td>8</td>\n",
       "    </tr>\n",
       "    <tr>\n",
       "      <th>432</th>\n",
       "      <td>433</td>\n",
       "      <td>37252</td>\n",
       "      <td>59000</td>\n",
       "      <td>6</td>\n",
       "      <td>2</td>\n",
       "      <td>1</td>\n",
       "      <td>2</td>\n",
       "    </tr>\n",
       "    <tr>\n",
       "      <th>411</th>\n",
       "      <td>412</td>\n",
       "      <td>50706</td>\n",
       "      <td>44000</td>\n",
       "      <td>4</td>\n",
       "      <td>5</td>\n",
       "      <td>0</td>\n",
       "      <td>2</td>\n",
       "    </tr>\n",
       "    <tr>\n",
       "      <th>541</th>\n",
       "      <td>542</td>\n",
       "      <td>50706</td>\n",
       "      <td>60000</td>\n",
       "      <td>7</td>\n",
       "      <td>5</td>\n",
       "      <td>2</td>\n",
       "      <td>2</td>\n",
       "    </tr>\n",
       "    <tr>\n",
       "      <th>4</th>\n",
       "      <td>5</td>\n",
       "      <td>47437</td>\n",
       "      <td>100000</td>\n",
       "      <td>6</td>\n",
       "      <td>0</td>\n",
       "      <td>12</td>\n",
       "      <td>3</td>\n",
       "    </tr>\n",
       "    <tr>\n",
       "      <th>332</th>\n",
       "      <td>333</td>\n",
       "      <td>47437</td>\n",
       "      <td>17000</td>\n",
       "      <td>7</td>\n",
       "      <td>3</td>\n",
       "      <td>1</td>\n",
       "      <td>0</td>\n",
       "    </tr>\n",
       "  </tbody>\n",
       "</table>\n",
       "</div>"
      ],
      "text/plain": [
       "     Sl_No  Customer Key  Avg_Credit_Limit  Total_Credit_Cards  \\\n",
       "391    392         96929             13000                   4   \n",
       "398    399         96929             67000                   6   \n",
       "104    105         97935             17000                   2   \n",
       "632    633         97935            187000                   7   \n",
       "48      49         37252              6000                   4   \n",
       "432    433         37252             59000                   6   \n",
       "411    412         50706             44000                   4   \n",
       "541    542         50706             60000                   7   \n",
       "4        5         47437            100000                   6   \n",
       "332    333         47437             17000                   7   \n",
       "\n",
       "     Total_visits_bank  Total_visits_online  Total_calls_made  \n",
       "391                  5                    0                 0  \n",
       "398                  2                    2                 2  \n",
       "104                  1                    2                10  \n",
       "632                  1                    7                 0  \n",
       "48                   0                    2                 8  \n",
       "432                  2                    1                 2  \n",
       "411                  5                    0                 2  \n",
       "541                  5                    2                 2  \n",
       "4                    0                   12                 3  \n",
       "332                  3                    1                 0  "
      ]
     },
     "execution_count": 16,
     "metadata": {},
     "output_type": "execute_result"
    }
   ],
   "source": [
    "multCustomerKeys_df"
   ]
  },
  {
   "cell_type": "code",
   "execution_count": 17,
   "metadata": {},
   "outputs": [],
   "source": [
    "# These all seem to be totally different customers who somehow got the same customer keys.\n",
    "# This does not really matter as the customer key field will be dropped anyway."
   ]
  },
  {
   "cell_type": "code",
   "execution_count": 18,
   "metadata": {},
   "outputs": [],
   "source": [
    "# Drop the Sl_No and the Customer Key.\n",
    "# Add _f subscript for fixed, as any data manipulation will take place with this new dataframe\n",
    "customerData_f = customerData.drop(['Sl_No', 'Customer Key'], axis='columns')"
   ]
  },
  {
   "cell_type": "code",
   "execution_count": 19,
   "metadata": {},
   "outputs": [
    {
     "data": {
      "text/html": [
       "<div>\n",
       "<style scoped>\n",
       "    .dataframe tbody tr th:only-of-type {\n",
       "        vertical-align: middle;\n",
       "    }\n",
       "\n",
       "    .dataframe tbody tr th {\n",
       "        vertical-align: top;\n",
       "    }\n",
       "\n",
       "    .dataframe thead th {\n",
       "        text-align: right;\n",
       "    }\n",
       "</style>\n",
       "<table border=\"1\" class=\"dataframe\">\n",
       "  <thead>\n",
       "    <tr style=\"text-align: right;\">\n",
       "      <th></th>\n",
       "      <th>count</th>\n",
       "      <th>mean</th>\n",
       "      <th>std</th>\n",
       "      <th>min</th>\n",
       "      <th>25%</th>\n",
       "      <th>50%</th>\n",
       "      <th>75%</th>\n",
       "      <th>max</th>\n",
       "    </tr>\n",
       "  </thead>\n",
       "  <tbody>\n",
       "    <tr>\n",
       "      <th>Avg_Credit_Limit</th>\n",
       "      <td>660.0000</td>\n",
       "      <td>34574.2424</td>\n",
       "      <td>37625.4878</td>\n",
       "      <td>3000.0000</td>\n",
       "      <td>10000.0000</td>\n",
       "      <td>18000.0000</td>\n",
       "      <td>48000.0000</td>\n",
       "      <td>200000.0000</td>\n",
       "    </tr>\n",
       "    <tr>\n",
       "      <th>Total_Credit_Cards</th>\n",
       "      <td>660.0000</td>\n",
       "      <td>4.7061</td>\n",
       "      <td>2.1678</td>\n",
       "      <td>1.0000</td>\n",
       "      <td>3.0000</td>\n",
       "      <td>5.0000</td>\n",
       "      <td>6.0000</td>\n",
       "      <td>10.0000</td>\n",
       "    </tr>\n",
       "    <tr>\n",
       "      <th>Total_visits_bank</th>\n",
       "      <td>660.0000</td>\n",
       "      <td>2.4030</td>\n",
       "      <td>1.6318</td>\n",
       "      <td>0.0000</td>\n",
       "      <td>1.0000</td>\n",
       "      <td>2.0000</td>\n",
       "      <td>4.0000</td>\n",
       "      <td>5.0000</td>\n",
       "    </tr>\n",
       "    <tr>\n",
       "      <th>Total_visits_online</th>\n",
       "      <td>660.0000</td>\n",
       "      <td>2.6061</td>\n",
       "      <td>2.9357</td>\n",
       "      <td>0.0000</td>\n",
       "      <td>1.0000</td>\n",
       "      <td>2.0000</td>\n",
       "      <td>4.0000</td>\n",
       "      <td>15.0000</td>\n",
       "    </tr>\n",
       "    <tr>\n",
       "      <th>Total_calls_made</th>\n",
       "      <td>660.0000</td>\n",
       "      <td>3.5833</td>\n",
       "      <td>2.8653</td>\n",
       "      <td>0.0000</td>\n",
       "      <td>1.0000</td>\n",
       "      <td>3.0000</td>\n",
       "      <td>5.0000</td>\n",
       "      <td>10.0000</td>\n",
       "    </tr>\n",
       "  </tbody>\n",
       "</table>\n",
       "</div>"
      ],
      "text/plain": [
       "                       count       mean        std       min        25%  \\\n",
       "Avg_Credit_Limit    660.0000 34574.2424 37625.4878 3000.0000 10000.0000   \n",
       "Total_Credit_Cards  660.0000     4.7061     2.1678    1.0000     3.0000   \n",
       "Total_visits_bank   660.0000     2.4030     1.6318    0.0000     1.0000   \n",
       "Total_visits_online 660.0000     2.6061     2.9357    0.0000     1.0000   \n",
       "Total_calls_made    660.0000     3.5833     2.8653    0.0000     1.0000   \n",
       "\n",
       "                           50%        75%         max  \n",
       "Avg_Credit_Limit    18000.0000 48000.0000 200000.0000  \n",
       "Total_Credit_Cards      5.0000     6.0000     10.0000  \n",
       "Total_visits_bank       2.0000     4.0000      5.0000  \n",
       "Total_visits_online     2.0000     4.0000     15.0000  \n",
       "Total_calls_made        3.0000     5.0000     10.0000  "
      ]
     },
     "execution_count": 19,
     "metadata": {},
     "output_type": "execute_result"
    }
   ],
   "source": [
    "# Look at the 5 number summary of the features.\n",
    "customerData_f.describe().transpose()"
   ]
  },
  {
   "cell_type": "code",
   "execution_count": 20,
   "metadata": {},
   "outputs": [
    {
     "data": {
      "text/plain": [
       "Avg_Credit_Limit      2.2024\n",
       "Total_Credit_Cards    0.1449\n",
       "Total_visits_bank     0.1419\n",
       "Total_visits_online   2.2256\n",
       "Total_calls_made      0.6589\n",
       "dtype: float64"
      ]
     },
     "execution_count": 20,
     "metadata": {},
     "output_type": "execute_result"
    }
   ],
   "source": [
    "# Look at the skewness of the features.\n",
    "customerData_f.skew()"
   ]
  },
  {
   "cell_type": "code",
   "execution_count": 21,
   "metadata": {
    "scrolled": false
   },
   "outputs": [
    {
     "data": {
      "image/png": "[encoded data removed]",
      "text/plain": [
       "<Figure size 720x432 with 2 Axes>"
      ]
     },
     "metadata": {
      "needs_background": "light"
     },
     "output_type": "display_data"
    },
    {
     "data": {
      "image/png": "[encoded data removed]",
      "text/plain": [
       "<Figure size 720x432 with 2 Axes>"
      ]
     },
     "metadata": {
      "needs_background": "light"
     },
     "output_type": "display_data"
    },
    {
     "data": {
      "image/png": "[encoded data removed]",
      "text/plain": [
       "<Figure size 720x432 with 2 Axes>"
      ]
     },
     "metadata": {
      "needs_background": "light"
     },
     "output_type": "display_data"
    },
    {
     "data": {
      "image/png": "[encoded data removed]",
      "text/plain": [
       "<Figure size 720x432 with 2 Axes>"
      ]
     },
     "metadata": {
      "needs_background": "light"
     },
     "output_type": "display_data"
    },
    {
     "data": {
      "image/png": "[encoded data removed]",
      "text/plain": [
       "<Figure size 720x432 with 2 Axes>"
      ]
     },
     "metadata": {
      "needs_background": "light"
     },
     "output_type": "display_data"
    }
   ],
   "source": [
    "# Create a function to plot the distribution of a variable with a box plot and kde.\n",
    "def plotDistribution(dataFrame, column):\n",
    "    # Cut the window in 2 parts\n",
    "    f, (ax_box, ax_hist) = plt.subplots(2, sharex=True, gridspec_kw={\"height_ratios\": (.3, .7)}, figsize=(10,6))\n",
    "    ax_box.set_title(column + \" distribution\", size='x-large')\n",
    "    # Add a graph in each part\n",
    "    sns.boxplot(dataFrame[column], ax=ax_box)\n",
    "    sns.distplot(dataFrame[column], ax=ax_hist)\n",
    "    # Remove x axis name for the boxplot\n",
    "    ax_box.set(xlabel='')\n",
    "\n",
    "# Plot the distributions and boxplots of all columns to visualise the 5 number summary and skewness.\n",
    "for column in customerData_f:\n",
    "    plotDistribution(customerData_f, column)"
   ]
  },
  {
   "cell_type": "markdown",
   "metadata": {},
   "source": [
    "### Bivariate Analysis"
   ]
  },
  {
   "cell_type": "code",
   "execution_count": 22,
   "metadata": {},
   "outputs": [
    {
     "data": {
      "text/plain": [
       "<seaborn.axisgrid.PairGrid at 0x203c2746288>"
      ]
     },
     "execution_count": 22,
     "metadata": {},
     "output_type": "execute_result"
    },
    {
     "data": {
      "image/png": "[encoded data removed]",
      "text/plain": [
       "<Figure size 900x900 with 30 Axes>"
      ]
     },
     "metadata": {
      "needs_background": "light"
     },
     "output_type": "display_data"
    }
   ],
   "source": [
    "sns.pairplot(customerData_f, diag_kind='kde')"
   ]
  },
  {
   "cell_type": "code",
   "execution_count": 23,
   "metadata": {},
   "outputs": [
    {
     "data": {
      "text/html": [
       "<div>\n",
       "<style scoped>\n",
       "    .dataframe tbody tr th:only-of-type {\n",
       "        vertical-align: middle;\n",
       "    }\n",
       "\n",
       "    .dataframe tbody tr th {\n",
       "        vertical-align: top;\n",
       "    }\n",
       "\n",
       "    .dataframe thead th {\n",
       "        text-align: right;\n",
       "    }\n",
       "</style>\n",
       "<table border=\"1\" class=\"dataframe\">\n",
       "  <thead>\n",
       "    <tr style=\"text-align: right;\">\n",
       "      <th></th>\n",
       "      <th>Avg_Credit_Limit</th>\n",
       "      <th>Total_Credit_Cards</th>\n",
       "      <th>Total_visits_bank</th>\n",
       "      <th>Total_visits_online</th>\n",
       "      <th>Total_calls_made</th>\n",
       "    </tr>\n",
       "  </thead>\n",
       "  <tbody>\n",
       "    <tr>\n",
       "      <th>Avg_Credit_Limit</th>\n",
       "      <td>1.0000</td>\n",
       "      <td>0.6089</td>\n",
       "      <td>-0.1003</td>\n",
       "      <td>0.5514</td>\n",
       "      <td>-0.4144</td>\n",
       "    </tr>\n",
       "    <tr>\n",
       "      <th>Total_Credit_Cards</th>\n",
       "      <td>0.6089</td>\n",
       "      <td>1.0000</td>\n",
       "      <td>0.3158</td>\n",
       "      <td>0.1678</td>\n",
       "      <td>-0.6513</td>\n",
       "    </tr>\n",
       "    <tr>\n",
       "      <th>Total_visits_bank</th>\n",
       "      <td>-0.1003</td>\n",
       "      <td>0.3158</td>\n",
       "      <td>1.0000</td>\n",
       "      <td>-0.5519</td>\n",
       "      <td>-0.5060</td>\n",
       "    </tr>\n",
       "    <tr>\n",
       "      <th>Total_visits_online</th>\n",
       "      <td>0.5514</td>\n",
       "      <td>0.1678</td>\n",
       "      <td>-0.5519</td>\n",
       "      <td>1.0000</td>\n",
       "      <td>0.1273</td>\n",
       "    </tr>\n",
       "    <tr>\n",
       "      <th>Total_calls_made</th>\n",
       "      <td>-0.4144</td>\n",
       "      <td>-0.6513</td>\n",
       "      <td>-0.5060</td>\n",
       "      <td>0.1273</td>\n",
       "      <td>1.0000</td>\n",
       "    </tr>\n",
       "  </tbody>\n",
       "</table>\n",
       "</div>"
      ],
      "text/plain": [
       "                     Avg_Credit_Limit  Total_Credit_Cards  Total_visits_bank  \\\n",
       "Avg_Credit_Limit               1.0000              0.6089            -0.1003   \n",
       "Total_Credit_Cards             0.6089              1.0000             0.3158   \n",
       "Total_visits_bank             -0.1003              0.3158             1.0000   \n",
       "Total_visits_online            0.5514              0.1678            -0.5519   \n",
       "Total_calls_made              -0.4144             -0.6513            -0.5060   \n",
       "\n",
       "                     Total_visits_online  Total_calls_made  \n",
       "Avg_Credit_Limit                  0.5514           -0.4144  \n",
       "Total_Credit_Cards                0.1678           -0.6513  \n",
       "Total_visits_bank                -0.5519           -0.5060  \n",
       "Total_visits_online               1.0000            0.1273  \n",
       "Total_calls_made                  0.1273            1.0000  "
      ]
     },
     "execution_count": 23,
     "metadata": {},
     "output_type": "execute_result"
    }
   ],
   "source": [
    "# Look for any correlation between the features.\n",
    "customerData_f.corr()"
   ]
  },
  {
   "cell_type": "code",
   "execution_count": 24,
   "metadata": {},
   "outputs": [
    {
     "data": {
      "text/plain": [
       "<matplotlib.axes._subplots.AxesSubplot at 0x203c26cda08>"
      ]
     },
     "execution_count": 24,
     "metadata": {},
     "output_type": "execute_result"
    },
    {
     "data": {
      "image/png": "[encoded data removed]",
      "text/plain": [
       "<Figure size 576x576 with 2 Axes>"
      ]
     },
     "metadata": {
      "needs_background": "light"
     },
     "output_type": "display_data"
    }
   ],
   "source": [
    "# Represent the correlation visually.\n",
    "plt.figure(figsize=(8,8))\n",
    "sns.heatmap(customerData_f.corr(), annot=True, linewidth=1, cmap='inferno')"
   ]
  },
  {
   "cell_type": "code",
   "execution_count": 25,
   "metadata": {},
   "outputs": [],
   "source": [
    "# There are quite a number of reasonably high correlations here.\n",
    "# Of course the Avg_Credit_Limit is quite strongly correlated with the Total_Credit_Cards.\n",
    "# The various ways of communicating with the bank seem to be inversely correlated with each other, this makes sense.\n",
    "# It would make sense that a customer prefers a certain way to communicate with the bank and uses that method often and the other methods not so often.\n",
    "# What is strange though is that people who have higher average limit like to visit online more while people with more cards like to vist the bank more, neither of those like to make calls to the bank."
   ]
  },
  {
   "cell_type": "markdown",
   "metadata": {},
   "source": [
    "### Feature Engineering"
   ]
  },
  {
   "cell_type": "code",
   "execution_count": 26,
   "metadata": {},
   "outputs": [],
   "source": [
    "# Take the logarithm of Avg_Credit_Limit to make the distribution more normal.\n",
    "customerData_f['Avg_Credit_Limit'] = np.log(customerData_f['Avg_Credit_Limit'])"
   ]
  },
  {
   "cell_type": "code",
   "execution_count": 27,
   "metadata": {},
   "outputs": [
    {
     "data": {
      "image/png": "[encoded data removed]",
      "text/plain": [
       "<Figure size 720x432 with 2 Axes>"
      ]
     },
     "metadata": {
      "needs_background": "light"
     },
     "output_type": "display_data"
    }
   ],
   "source": [
    "# Plot the distribution of Avg_Credit_Limit to see if it has improved.\n",
    "plotDistribution(customerData_f, 'Avg_Credit_Limit')"
   ]
  },
  {
   "cell_type": "code",
   "execution_count": 28,
   "metadata": {},
   "outputs": [],
   "source": [
    "# That is much better, no more outliers for Avg_Credit_Limit."
   ]
  },
  {
   "cell_type": "code",
   "execution_count": 29,
   "metadata": {
    "scrolled": true
   },
   "outputs": [
    {
     "data": {
      "text/plain": [
       "Avg_Credit_Limit      0.3938\n",
       "Total_Credit_Cards    0.1449\n",
       "Total_visits_bank     0.1419\n",
       "Total_visits_online   2.2256\n",
       "Total_calls_made      0.6589\n",
       "dtype: float64"
      ]
     },
     "execution_count": 29,
     "metadata": {},
     "output_type": "execute_result"
    }
   ],
   "source": [
    "# Look how much the skewness has improved.\n",
    "customerData_f.skew()"
   ]
  },
  {
   "cell_type": "code",
   "execution_count": 30,
   "metadata": {},
   "outputs": [
    {
     "data": {
      "text/html": [
       "<div>\n",
       "<style scoped>\n",
       "    .dataframe tbody tr th:only-of-type {\n",
       "        vertical-align: middle;\n",
       "    }\n",
       "\n",
       "    .dataframe tbody tr th {\n",
       "        vertical-align: top;\n",
       "    }\n",
       "\n",
       "    .dataframe thead th {\n",
       "        text-align: right;\n",
       "    }\n",
       "</style>\n",
       "<table border=\"1\" class=\"dataframe\">\n",
       "  <thead>\n",
       "    <tr style=\"text-align: right;\">\n",
       "      <th></th>\n",
       "      <th>count</th>\n",
       "      <th>mean</th>\n",
       "      <th>std</th>\n",
       "      <th>min</th>\n",
       "      <th>25%</th>\n",
       "      <th>50%</th>\n",
       "      <th>75%</th>\n",
       "      <th>max</th>\n",
       "    </tr>\n",
       "  </thead>\n",
       "  <tbody>\n",
       "    <tr>\n",
       "      <th>Avg_Credit_Limit</th>\n",
       "      <td>660.0000</td>\n",
       "      <td>-0.0000</td>\n",
       "      <td>1.0008</td>\n",
       "      <td>-2.1389</td>\n",
       "      <td>-0.8447</td>\n",
       "      <td>-0.2128</td>\n",
       "      <td>0.8415</td>\n",
       "      <td>2.3756</td>\n",
       "    </tr>\n",
       "    <tr>\n",
       "      <th>Total_Credit_Cards</th>\n",
       "      <td>660.0000</td>\n",
       "      <td>-0.0000</td>\n",
       "      <td>1.0008</td>\n",
       "      <td>-1.7109</td>\n",
       "      <td>-0.7876</td>\n",
       "      <td>0.1357</td>\n",
       "      <td>0.5973</td>\n",
       "      <td>2.4439</td>\n",
       "    </tr>\n",
       "    <tr>\n",
       "      <th>Total_visits_bank</th>\n",
       "      <td>660.0000</td>\n",
       "      <td>0.0000</td>\n",
       "      <td>1.0008</td>\n",
       "      <td>-1.4737</td>\n",
       "      <td>-0.8605</td>\n",
       "      <td>-0.2472</td>\n",
       "      <td>0.9794</td>\n",
       "      <td>1.5927</td>\n",
       "    </tr>\n",
       "    <tr>\n",
       "      <th>Total_visits_online</th>\n",
       "      <td>660.0000</td>\n",
       "      <td>0.0000</td>\n",
       "      <td>1.0008</td>\n",
       "      <td>-0.8884</td>\n",
       "      <td>-0.5475</td>\n",
       "      <td>-0.2066</td>\n",
       "      <td>0.4752</td>\n",
       "      <td>4.2250</td>\n",
       "    </tr>\n",
       "    <tr>\n",
       "      <th>Total_calls_made</th>\n",
       "      <td>660.0000</td>\n",
       "      <td>-0.0000</td>\n",
       "      <td>1.0008</td>\n",
       "      <td>-1.2515</td>\n",
       "      <td>-0.9023</td>\n",
       "      <td>-0.2037</td>\n",
       "      <td>0.4948</td>\n",
       "      <td>2.2411</td>\n",
       "    </tr>\n",
       "  </tbody>\n",
       "</table>\n",
       "</div>"
      ],
      "text/plain": [
       "                       count    mean    std     min     25%     50%    75%  \\\n",
       "Avg_Credit_Limit    660.0000 -0.0000 1.0008 -2.1389 -0.8447 -0.2128 0.8415   \n",
       "Total_Credit_Cards  660.0000 -0.0000 1.0008 -1.7109 -0.7876  0.1357 0.5973   \n",
       "Total_visits_bank   660.0000  0.0000 1.0008 -1.4737 -0.8605 -0.2472 0.9794   \n",
       "Total_visits_online 660.0000  0.0000 1.0008 -0.8884 -0.5475 -0.2066 0.4752   \n",
       "Total_calls_made    660.0000 -0.0000 1.0008 -1.2515 -0.9023 -0.2037 0.4948   \n",
       "\n",
       "                       max  \n",
       "Avg_Credit_Limit    2.3756  \n",
       "Total_Credit_Cards  2.4439  \n",
       "Total_visits_bank   1.5927  \n",
       "Total_visits_online 4.2250  \n",
       "Total_calls_made    2.2411  "
      ]
     },
     "execution_count": 30,
     "metadata": {},
     "output_type": "execute_result"
    }
   ],
   "source": [
    "# First scale the data.\n",
    "customerData_f = customerData_f.apply(zscore)\n",
    "customerData_f.describe().transpose()"
   ]
  },
  {
   "cell_type": "markdown",
   "metadata": {},
   "source": [
    "### K-Means Clustering"
   ]
  },
  {
   "cell_type": "code",
   "execution_count": 31,
   "metadata": {},
   "outputs": [
    {
     "data": {
      "text/html": [
       "<div>\n",
       "<style scoped>\n",
       "    .dataframe tbody tr th:only-of-type {\n",
       "        vertical-align: middle;\n",
       "    }\n",
       "\n",
       "    .dataframe tbody tr th {\n",
       "        vertical-align: top;\n",
       "    }\n",
       "\n",
       "    .dataframe thead th {\n",
       "        text-align: right;\n",
       "    }\n",
       "</style>\n",
       "<table border=\"1\" class=\"dataframe\">\n",
       "  <thead>\n",
       "    <tr style=\"text-align: right;\">\n",
       "      <th></th>\n",
       "      <th>Num Clusters</th>\n",
       "      <th>Cluster Errors</th>\n",
       "    </tr>\n",
       "  </thead>\n",
       "  <tbody>\n",
       "    <tr>\n",
       "      <th>0</th>\n",
       "      <td>1</td>\n",
       "      <td>3300.0000</td>\n",
       "    </tr>\n",
       "    <tr>\n",
       "      <th>1</th>\n",
       "      <td>2</td>\n",
       "      <td>1980.6550</td>\n",
       "    </tr>\n",
       "    <tr>\n",
       "      <th>2</th>\n",
       "      <td>3</td>\n",
       "      <td>1090.3510</td>\n",
       "    </tr>\n",
       "    <tr>\n",
       "      <th>3</th>\n",
       "      <td>4</td>\n",
       "      <td>860.7483</td>\n",
       "    </tr>\n",
       "    <tr>\n",
       "      <th>4</th>\n",
       "      <td>5</td>\n",
       "      <td>775.8160</td>\n",
       "    </tr>\n",
       "    <tr>\n",
       "      <th>5</th>\n",
       "      <td>6</td>\n",
       "      <td>697.7496</td>\n",
       "    </tr>\n",
       "    <tr>\n",
       "      <th>6</th>\n",
       "      <td>7</td>\n",
       "      <td>634.2121</td>\n",
       "    </tr>\n",
       "    <tr>\n",
       "      <th>7</th>\n",
       "      <td>8</td>\n",
       "      <td>599.0129</td>\n",
       "    </tr>\n",
       "    <tr>\n",
       "      <th>8</th>\n",
       "      <td>9</td>\n",
       "      <td>571.0521</td>\n",
       "    </tr>\n",
       "    <tr>\n",
       "      <th>9</th>\n",
       "      <td>10</td>\n",
       "      <td>542.1281</td>\n",
       "    </tr>\n",
       "  </tbody>\n",
       "</table>\n",
       "</div>"
      ],
      "text/plain": [
       "   Num Clusters  Cluster Errors\n",
       "0             1       3300.0000\n",
       "1             2       1980.6550\n",
       "2             3       1090.3510\n",
       "3             4        860.7483\n",
       "4             5        775.8160\n",
       "5             6        697.7496\n",
       "6             7        634.2121\n",
       "7             8        599.0129\n",
       "8             9        571.0521\n",
       "9            10        542.1281"
      ]
     },
     "execution_count": 31,
     "metadata": {},
     "output_type": "execute_result"
    }
   ],
   "source": [
    "# Calculate all the data required for the skree plot.\n",
    "clusterRange = range(1,11)\n",
    "clusterErrors = []\n",
    "for numClusters in clusterRange:\n",
    "    model = KMeans(n_clusters=numClusters)\n",
    "    model.fit(customerData_f)\n",
    "    #clusterLabels = model.labels_\n",
    "    #clusterCenters = model.cluster_centers_\n",
    "    clusterErrors.append(model.inertia_)\n",
    "\n",
    "skreePlot_df = pd.DataFrame({\"Num Clusters\":clusterRange, \"Cluster Errors\":clusterErrors})\n",
    "skreePlot_df"
   ]
  },
  {
   "cell_type": "code",
   "execution_count": 32,
   "metadata": {},
   "outputs": [
    {
     "data": {
      "text/plain": [
       "<matplotlib.axes._subplots.AxesSubplot at 0x203c2612dc8>"
      ]
     },
     "execution_count": 32,
     "metadata": {},
     "output_type": "execute_result"
    },
    {
     "data": {
      "image/png": "[encoded data removed]",
      "text/plain": [
       "<Figure size 720x432 with 1 Axes>"
      ]
     },
     "metadata": {
      "needs_background": "light"
     },
     "output_type": "display_data"
    }
   ],
   "source": [
    "# Plot the skree plot.\n",
    "plt.figure(figsize=(10,6))\n",
    "sns.lineplot(skreePlot_df['Num Clusters'], skreePlot_df['Cluster Errors'], marker=\"o\")"
   ]
  },
  {
   "cell_type": "code",
   "execution_count": 33,
   "metadata": {},
   "outputs": [
    {
     "data": {
      "text/plain": [
       "Text(0.5, 1.0, 'Selecting k with the Elbow Method')"
      ]
     },
     "execution_count": 33,
     "metadata": {},
     "output_type": "execute_result"
    },
    {
     "data": {
      "image/png": "[encoded data removed]",
      "text/plain": [
       "<Figure size 720x432 with 1 Axes>"
      ]
     },
     "metadata": {
      "needs_background": "light"
     },
     "output_type": "display_data"
    }
   ],
   "source": [
    "# Alternate way of plotting the skree plot.\n",
    "clusterRange=range(1,11)\n",
    "meanDistortions=[]\n",
    "\n",
    "for numClusters in clusterRange:\n",
    "    model=KMeans(n_clusters=numClusters)\n",
    "    model.fit(customerData_f)\n",
    "    prediction=model.predict(customerData_f)\n",
    "    meanDistortions.append(sum(np.min(cdist(customerData_f, model.cluster_centers_, 'euclidean'), axis=1)) / customerData_f.shape[0])\n",
    "\n",
    "plt.figure(figsize=(10,6))\n",
    "plt.plot(clusterRange, meanDistortions, 'bx-')\n",
    "plt.xlabel('Num Clusters')\n",
    "plt.ylabel('Average distortion')\n",
    "plt.title('Selecting k with the Elbow Method')"
   ]
  },
  {
   "cell_type": "code",
   "execution_count": 34,
   "metadata": {},
   "outputs": [],
   "source": [
    "# This method yields a curve with slightly less sharp elbows. So it is useful to use both methods."
   ]
  },
  {
   "cell_type": "code",
   "execution_count": 35,
   "metadata": {},
   "outputs": [
    {
     "data": {
      "text/html": [
       "<div>\n",
       "<style scoped>\n",
       "    .dataframe tbody tr th:only-of-type {\n",
       "        vertical-align: middle;\n",
       "    }\n",
       "\n",
       "    .dataframe tbody tr th {\n",
       "        vertical-align: top;\n",
       "    }\n",
       "\n",
       "    .dataframe thead th {\n",
       "        text-align: right;\n",
       "    }\n",
       "</style>\n",
       "<table border=\"1\" class=\"dataframe\">\n",
       "  <thead>\n",
       "    <tr style=\"text-align: right;\">\n",
       "      <th></th>\n",
       "      <th>Avg_Credit_Limit</th>\n",
       "      <th>Total_Credit_Cards</th>\n",
       "      <th>Total_visits_bank</th>\n",
       "      <th>Total_visits_online</th>\n",
       "      <th>Total_calls_made</th>\n",
       "      <th>Cluster</th>\n",
       "    </tr>\n",
       "  </thead>\n",
       "  <tbody>\n",
       "    <tr>\n",
       "      <th>0</th>\n",
       "      <td>1.6305</td>\n",
       "      <td>-1.2492</td>\n",
       "      <td>-0.8605</td>\n",
       "      <td>-0.5475</td>\n",
       "      <td>-1.2515</td>\n",
       "      <td>1</td>\n",
       "    </tr>\n",
       "    <tr>\n",
       "      <th>1</th>\n",
       "      <td>0.8854</td>\n",
       "      <td>-0.7876</td>\n",
       "      <td>-1.4737</td>\n",
       "      <td>2.5205</td>\n",
       "      <td>1.8919</td>\n",
       "      <td>0</td>\n",
       "    </tr>\n",
       "    <tr>\n",
       "      <th>2</th>\n",
       "      <td>0.8854</td>\n",
       "      <td>1.0590</td>\n",
       "      <td>-0.8605</td>\n",
       "      <td>0.1343</td>\n",
       "      <td>0.1455</td>\n",
       "      <td>1</td>\n",
       "    </tr>\n",
       "    <tr>\n",
       "      <th>3</th>\n",
       "      <td>0.3363</td>\n",
       "      <td>0.1357</td>\n",
       "      <td>-0.8605</td>\n",
       "      <td>-0.5475</td>\n",
       "      <td>0.1455</td>\n",
       "      <td>1</td>\n",
       "    </tr>\n",
       "    <tr>\n",
       "      <th>4</th>\n",
       "      <td>1.6305</td>\n",
       "      <td>0.5973</td>\n",
       "      <td>-1.4737</td>\n",
       "      <td>3.2023</td>\n",
       "      <td>-0.2037</td>\n",
       "      <td>2</td>\n",
       "    </tr>\n",
       "  </tbody>\n",
       "</table>\n",
       "</div>"
      ],
      "text/plain": [
       "   Avg_Credit_Limit  Total_Credit_Cards  Total_visits_bank  \\\n",
       "0            1.6305             -1.2492            -0.8605   \n",
       "1            0.8854             -0.7876            -1.4737   \n",
       "2            0.8854              1.0590            -0.8605   \n",
       "3            0.3363              0.1357            -0.8605   \n",
       "4            1.6305              0.5973            -1.4737   \n",
       "\n",
       "   Total_visits_online  Total_calls_made  Cluster  \n",
       "0              -0.5475           -1.2515        1  \n",
       "1               2.5205            1.8919        0  \n",
       "2               0.1343            0.1455        1  \n",
       "3              -0.5475            0.1455        1  \n",
       "4               3.2023           -0.2037        2  "
      ]
     },
     "execution_count": 35,
     "metadata": {},
     "output_type": "execute_result"
    }
   ],
   "source": [
    "# The sharpest elbow occurs at K=3, but K=4 also seems like a possible elbow point.\n",
    "# However, since there are 3 methods of contacting the bank, it makes more sense to use 3 clusters.\n",
    "model_k3 = KMeans(n_clusters=3, random_state=7)\n",
    "model_k3.fit(customerData_f)\n",
    "\n",
    "# Predict the cluster for each record and append that to the dataframe.\n",
    "prediction_k3 = model_k3.predict(customerData_f)\n",
    "customerData_k3 = customerData_f.copy()\n",
    "customerData_k3['Cluster'] = prediction_k3\n",
    "customerData_k3.head()"
   ]
  },
  {
   "cell_type": "code",
   "execution_count": 36,
   "metadata": {},
   "outputs": [
    {
     "data": {
      "text/html": [
       "<div>\n",
       "<style scoped>\n",
       "    .dataframe tbody tr th:only-of-type {\n",
       "        vertical-align: middle;\n",
       "    }\n",
       "\n",
       "    .dataframe tbody tr th {\n",
       "        vertical-align: top;\n",
       "    }\n",
       "\n",
       "    .dataframe thead th {\n",
       "        text-align: right;\n",
       "    }\n",
       "</style>\n",
       "<table border=\"1\" class=\"dataframe\">\n",
       "  <thead>\n",
       "    <tr style=\"text-align: right;\">\n",
       "      <th></th>\n",
       "      <th>Avg_Credit_Limit</th>\n",
       "      <th>Total_Credit_Cards</th>\n",
       "      <th>Total_visits_bank</th>\n",
       "      <th>Total_visits_online</th>\n",
       "      <th>Total_calls_made</th>\n",
       "    </tr>\n",
       "    <tr>\n",
       "      <th>Cluster</th>\n",
       "      <th></th>\n",
       "      <th></th>\n",
       "      <th></th>\n",
       "      <th></th>\n",
       "      <th></th>\n",
       "    </tr>\n",
       "  </thead>\n",
       "  <tbody>\n",
       "    <tr>\n",
       "      <th>0</th>\n",
       "      <td>225</td>\n",
       "      <td>225</td>\n",
       "      <td>225</td>\n",
       "      <td>225</td>\n",
       "      <td>225</td>\n",
       "    </tr>\n",
       "    <tr>\n",
       "      <th>1</th>\n",
       "      <td>385</td>\n",
       "      <td>385</td>\n",
       "      <td>385</td>\n",
       "      <td>385</td>\n",
       "      <td>385</td>\n",
       "    </tr>\n",
       "    <tr>\n",
       "      <th>2</th>\n",
       "      <td>50</td>\n",
       "      <td>50</td>\n",
       "      <td>50</td>\n",
       "      <td>50</td>\n",
       "      <td>50</td>\n",
       "    </tr>\n",
       "  </tbody>\n",
       "</table>\n",
       "</div>"
      ],
      "text/plain": [
       "         Avg_Credit_Limit  Total_Credit_Cards  Total_visits_bank  \\\n",
       "Cluster                                                            \n",
       "0                     225                 225                225   \n",
       "1                     385                 385                385   \n",
       "2                      50                  50                 50   \n",
       "\n",
       "         Total_visits_online  Total_calls_made  \n",
       "Cluster                                         \n",
       "0                        225               225  \n",
       "1                        385               385  \n",
       "2                         50                50  "
      ]
     },
     "execution_count": 36,
     "metadata": {},
     "output_type": "execute_result"
    }
   ],
   "source": [
    "# Have a look how many records are in each cluster.\n",
    "customerData_k3.groupby(['Cluster']).count()"
   ]
  },
  {
   "cell_type": "code",
   "execution_count": 37,
   "metadata": {},
   "outputs": [
    {
     "data": {
      "text/html": [
       "<div>\n",
       "<style scoped>\n",
       "    .dataframe tbody tr th:only-of-type {\n",
       "        vertical-align: middle;\n",
       "    }\n",
       "\n",
       "    .dataframe tbody tr th {\n",
       "        vertical-align: top;\n",
       "    }\n",
       "\n",
       "    .dataframe thead th {\n",
       "        text-align: right;\n",
       "    }\n",
       "</style>\n",
       "<table border=\"1\" class=\"dataframe\">\n",
       "  <thead>\n",
       "    <tr style=\"text-align: right;\">\n",
       "      <th></th>\n",
       "      <th>0</th>\n",
       "      <th>1</th>\n",
       "      <th>2</th>\n",
       "    </tr>\n",
       "  </thead>\n",
       "  <tbody>\n",
       "    <tr>\n",
       "      <th>Avg_Credit_Limit</th>\n",
       "      <td>-0.7310</td>\n",
       "      <td>0.1718</td>\n",
       "      <td>1.9665</td>\n",
       "    </tr>\n",
       "    <tr>\n",
       "      <th>Total_Credit_Cards</th>\n",
       "      <td>-1.0543</td>\n",
       "      <td>0.3743</td>\n",
       "      <td>1.8622</td>\n",
       "    </tr>\n",
       "    <tr>\n",
       "      <th>Total_visits_bank</th>\n",
       "      <td>-0.8986</td>\n",
       "      <td>0.6688</td>\n",
       "      <td>-1.1058</td>\n",
       "    </tr>\n",
       "    <tr>\n",
       "      <th>Total_visits_online</th>\n",
       "      <td>0.3206</td>\n",
       "      <td>-0.5546</td>\n",
       "      <td>2.8273</td>\n",
       "    </tr>\n",
       "    <tr>\n",
       "      <th>Total_calls_made</th>\n",
       "      <td>1.1437</td>\n",
       "      <td>-0.5548</td>\n",
       "      <td>-0.8743</td>\n",
       "    </tr>\n",
       "  </tbody>\n",
       "</table>\n",
       "</div>"
      ],
      "text/plain": [
       "                          0       1       2\n",
       "Avg_Credit_Limit    -0.7310  0.1718  1.9665\n",
       "Total_Credit_Cards  -1.0543  0.3743  1.8622\n",
       "Total_visits_bank   -0.8986  0.6688 -1.1058\n",
       "Total_visits_online  0.3206 -0.5546  2.8273\n",
       "Total_calls_made     1.1437 -0.5548 -0.8743"
      ]
     },
     "execution_count": 37,
     "metadata": {},
     "output_type": "execute_result"
    }
   ],
   "source": [
    "# Have a look at the centers of the cluster.\n",
    "centroids_k3 = model_k3.cluster_centers_\n",
    "centroids_df_k3 = pd.DataFrame(centroids_k3, columns=list(customerData_f))\n",
    "centroids_df_k3.transpose()"
   ]
  },
  {
   "cell_type": "code",
   "execution_count": 38,
   "metadata": {},
   "outputs": [],
   "source": [
    "# Cluster 2 has the highest average credit limit and the highest number of cards.\n",
    "# Cluster 0 seems to be people who like to call the bank.\n",
    "# Clusters 1 seems to be people who like to go to the bank.\n",
    "# Cluster 2 seems to be people who make use of online banking."
   ]
  },
  {
   "cell_type": "code",
   "execution_count": 39,
   "metadata": {},
   "outputs": [
    {
     "data": {
      "text/plain": [
       "array([[<matplotlib.axes._subplots.AxesSubplot object at 0x00000203C45EC288>,\n",
       "        <matplotlib.axes._subplots.AxesSubplot object at 0x00000203C4625B48>,\n",
       "        <matplotlib.axes._subplots.AxesSubplot object at 0x00000203C45FBA08>],\n",
       "       [<matplotlib.axes._subplots.AxesSubplot object at 0x00000203C5944DC8>,\n",
       "        <matplotlib.axes._subplots.AxesSubplot object at 0x00000203C597EC08>,\n",
       "        <matplotlib.axes._subplots.AxesSubplot object at 0x00000203C59B7A08>]],\n",
       "      dtype=object)"
      ]
     },
     "execution_count": 39,
     "metadata": {},
     "output_type": "execute_result"
    },
    {
     "data": {
      "image/png": "[encoded data removed]",
      "text/plain": [
       "<Figure size 1080x720 with 6 Axes>"
      ]
     },
     "metadata": {
      "needs_background": "light"
     },
     "output_type": "display_data"
    }
   ],
   "source": [
    "# View the distributions of each feature within each cluster by means of a boxplot.\n",
    "customerData_k3.boxplot(by='Cluster', layout=(2,3), figsize=(15,10))"
   ]
  },
  {
   "cell_type": "code",
   "execution_count": 40,
   "metadata": {},
   "outputs": [],
   "source": [
    "# clusters are resonably well split, with littel overlapping.\n",
    "# Cluster Observations.\n",
    "# Cluster 0: Characterised by low credit limit, low number of cards and high number of calls.\n",
    "#            Millenials for sure. They don't like the concept of credit, they only have a card because their parents told them it is good to build a credit record.\n",
    "#            They're also paranoid about credit card fraud, so they set the limits super low in case anything should happen. They know about technology and prefer to use it\n",
    "#            in order to contact the bank, especially calling because they always have their phones with them anyway.\n",
    "# Cluster 1: Characterised by intermediate credit limits, number of cards and high bank visits. This cluster has significantly more \n",
    "#            Older generation, mostly boomers, who need to use credit now and then because supporting a family isn't easy. They don't trust technology yet,\n",
    "#            so they like to visit the bank personally.\n",
    "# Cluster 3: Characterised by high credit limits, high card numbers and high online visits.\n",
    "#            These are ballers who love swiping plastic. They have many cards with high average credit limits.\n",
    "#            They spend a lot of time on the online banking platform, shuffling their credit between accounts, making sure they'll have enough credit available \n",
    "#            to buy a round for eveyone in the club tonight."
   ]
  },
  {
   "cell_type": "code",
   "execution_count": 41,
   "metadata": {},
   "outputs": [
    {
     "data": {
      "text/html": [
       "<div>\n",
       "<style scoped>\n",
       "    .dataframe tbody tr th:only-of-type {\n",
       "        vertical-align: middle;\n",
       "    }\n",
       "\n",
       "    .dataframe tbody tr th {\n",
       "        vertical-align: top;\n",
       "    }\n",
       "\n",
       "    .dataframe thead th {\n",
       "        text-align: right;\n",
       "    }\n",
       "</style>\n",
       "<table border=\"1\" class=\"dataframe\">\n",
       "  <thead>\n",
       "    <tr style=\"text-align: right;\">\n",
       "      <th></th>\n",
       "      <th>Avg_Credit_Limit</th>\n",
       "      <th>Total_Credit_Cards</th>\n",
       "      <th>Total_visits_bank</th>\n",
       "      <th>Total_visits_online</th>\n",
       "      <th>Total_calls_made</th>\n",
       "      <th>Cluster</th>\n",
       "    </tr>\n",
       "  </thead>\n",
       "  <tbody>\n",
       "    <tr>\n",
       "      <th>0</th>\n",
       "      <td>1.6305</td>\n",
       "      <td>-1.2492</td>\n",
       "      <td>-0.8605</td>\n",
       "      <td>-0.5475</td>\n",
       "      <td>-1.2515</td>\n",
       "      <td>1</td>\n",
       "    </tr>\n",
       "    <tr>\n",
       "      <th>1</th>\n",
       "      <td>0.8854</td>\n",
       "      <td>-0.7876</td>\n",
       "      <td>-1.4737</td>\n",
       "      <td>2.5205</td>\n",
       "      <td>1.8919</td>\n",
       "      <td>0</td>\n",
       "    </tr>\n",
       "    <tr>\n",
       "      <th>2</th>\n",
       "      <td>0.8854</td>\n",
       "      <td>1.0590</td>\n",
       "      <td>-0.8605</td>\n",
       "      <td>0.1343</td>\n",
       "      <td>0.1455</td>\n",
       "      <td>1</td>\n",
       "    </tr>\n",
       "    <tr>\n",
       "      <th>3</th>\n",
       "      <td>0.3363</td>\n",
       "      <td>0.1357</td>\n",
       "      <td>-0.8605</td>\n",
       "      <td>-0.5475</td>\n",
       "      <td>0.1455</td>\n",
       "      <td>1</td>\n",
       "    </tr>\n",
       "    <tr>\n",
       "      <th>4</th>\n",
       "      <td>1.6305</td>\n",
       "      <td>0.5973</td>\n",
       "      <td>-1.4737</td>\n",
       "      <td>3.2023</td>\n",
       "      <td>-0.2037</td>\n",
       "      <td>2</td>\n",
       "    </tr>\n",
       "  </tbody>\n",
       "</table>\n",
       "</div>"
      ],
      "text/plain": [
       "   Avg_Credit_Limit  Total_Credit_Cards  Total_visits_bank  \\\n",
       "0            1.6305             -1.2492            -0.8605   \n",
       "1            0.8854             -0.7876            -1.4737   \n",
       "2            0.8854              1.0590            -0.8605   \n",
       "3            0.3363              0.1357            -0.8605   \n",
       "4            1.6305              0.5973            -1.4737   \n",
       "\n",
       "   Total_visits_online  Total_calls_made  Cluster  \n",
       "0              -0.5475           -1.2515        1  \n",
       "1               2.5205            1.8919        0  \n",
       "2               0.1343            0.1455        1  \n",
       "3              -0.5475            0.1455        1  \n",
       "4               3.2023           -0.2037        2  "
      ]
     },
     "execution_count": 41,
     "metadata": {},
     "output_type": "execute_result"
    }
   ],
   "source": [
    "# Let's do an analysis with 4 clusters just in case it migh be better.\n",
    "# The sharpest elbow occurs at K=3, but K=4 also seems like a possible elbow point.\n",
    "model_k4 = KMeans(n_clusters=4, random_state=7)\n",
    "model_k4.fit(customerData_f)\n",
    "\n",
    "# Predict the cluster for each record and append that to the dataframe.\n",
    "prediction_k4 = model_k4.predict(customerData_f)\n",
    "customerData_k4 = customerData_f.copy()\n",
    "customerData_k4['Cluster'] = prediction_k4\n",
    "customerData_k4.head()\n"
   ]
  },
  {
   "cell_type": "code",
   "execution_count": 42,
   "metadata": {},
   "outputs": [
    {
     "data": {
      "text/html": [
       "<div>\n",
       "<style scoped>\n",
       "    .dataframe tbody tr th:only-of-type {\n",
       "        vertical-align: middle;\n",
       "    }\n",
       "\n",
       "    .dataframe tbody tr th {\n",
       "        vertical-align: top;\n",
       "    }\n",
       "\n",
       "    .dataframe thead th {\n",
       "        text-align: right;\n",
       "    }\n",
       "</style>\n",
       "<table border=\"1\" class=\"dataframe\">\n",
       "  <thead>\n",
       "    <tr style=\"text-align: right;\">\n",
       "      <th></th>\n",
       "      <th>Avg_Credit_Limit</th>\n",
       "      <th>Total_Credit_Cards</th>\n",
       "      <th>Total_visits_bank</th>\n",
       "      <th>Total_visits_online</th>\n",
       "      <th>Total_calls_made</th>\n",
       "    </tr>\n",
       "    <tr>\n",
       "      <th>Cluster</th>\n",
       "      <th></th>\n",
       "      <th></th>\n",
       "      <th></th>\n",
       "      <th></th>\n",
       "      <th></th>\n",
       "    </tr>\n",
       "  </thead>\n",
       "  <tbody>\n",
       "    <tr>\n",
       "      <th>0</th>\n",
       "      <td>223</td>\n",
       "      <td>223</td>\n",
       "      <td>223</td>\n",
       "      <td>223</td>\n",
       "      <td>223</td>\n",
       "    </tr>\n",
       "    <tr>\n",
       "      <th>1</th>\n",
       "      <td>219</td>\n",
       "      <td>219</td>\n",
       "      <td>219</td>\n",
       "      <td>219</td>\n",
       "      <td>219</td>\n",
       "    </tr>\n",
       "    <tr>\n",
       "      <th>2</th>\n",
       "      <td>50</td>\n",
       "      <td>50</td>\n",
       "      <td>50</td>\n",
       "      <td>50</td>\n",
       "      <td>50</td>\n",
       "    </tr>\n",
       "    <tr>\n",
       "      <th>3</th>\n",
       "      <td>168</td>\n",
       "      <td>168</td>\n",
       "      <td>168</td>\n",
       "      <td>168</td>\n",
       "      <td>168</td>\n",
       "    </tr>\n",
       "  </tbody>\n",
       "</table>\n",
       "</div>"
      ],
      "text/plain": [
       "         Avg_Credit_Limit  Total_Credit_Cards  Total_visits_bank  \\\n",
       "Cluster                                                            \n",
       "0                     223                 223                223   \n",
       "1                     219                 219                219   \n",
       "2                      50                  50                 50   \n",
       "3                     168                 168                168   \n",
       "\n",
       "         Total_visits_online  Total_calls_made  \n",
       "Cluster                                         \n",
       "0                        223               223  \n",
       "1                        219               219  \n",
       "2                         50                50  \n",
       "3                        168               168  "
      ]
     },
     "execution_count": 42,
     "metadata": {},
     "output_type": "execute_result"
    }
   ],
   "source": [
    "# Have a look how many records are in each cluster.\n",
    "customerData_k4.groupby(['Cluster']).count()"
   ]
  },
  {
   "cell_type": "code",
   "execution_count": 43,
   "metadata": {},
   "outputs": [],
   "source": [
    "# The distribution is a bit better, but cluster 2 still has a low number of records."
   ]
  },
  {
   "cell_type": "code",
   "execution_count": 44,
   "metadata": {},
   "outputs": [
    {
     "data": {
      "text/html": [
       "<div>\n",
       "<style scoped>\n",
       "    .dataframe tbody tr th:only-of-type {\n",
       "        vertical-align: middle;\n",
       "    }\n",
       "\n",
       "    .dataframe tbody tr th {\n",
       "        vertical-align: top;\n",
       "    }\n",
       "\n",
       "    .dataframe thead th {\n",
       "        text-align: right;\n",
       "    }\n",
       "</style>\n",
       "<table border=\"1\" class=\"dataframe\">\n",
       "  <thead>\n",
       "    <tr style=\"text-align: right;\">\n",
       "      <th></th>\n",
       "      <th>0</th>\n",
       "      <th>1</th>\n",
       "      <th>2</th>\n",
       "      <th>3</th>\n",
       "    </tr>\n",
       "  </thead>\n",
       "  <tbody>\n",
       "    <tr>\n",
       "      <th>Avg_Credit_Limit</th>\n",
       "      <td>-0.7265</td>\n",
       "      <td>0.8389</td>\n",
       "      <td>1.9665</td>\n",
       "      <td>-0.7145</td>\n",
       "    </tr>\n",
       "    <tr>\n",
       "      <th>Total_Credit_Cards</th>\n",
       "      <td>-1.0629</td>\n",
       "      <td>0.3886</td>\n",
       "      <td>1.8622</td>\n",
       "      <td>0.3500</td>\n",
       "    </tr>\n",
       "    <tr>\n",
       "      <th>Total_visits_bank</th>\n",
       "      <td>-0.9045</td>\n",
       "      <td>0.6125</td>\n",
       "      <td>-1.1058</td>\n",
       "      <td>0.7312</td>\n",
       "    </tr>\n",
       "    <tr>\n",
       "      <th>Total_visits_online</th>\n",
       "      <td>0.3254</td>\n",
       "      <td>-0.5584</td>\n",
       "      <td>2.8273</td>\n",
       "      <td>-0.5455</td>\n",
       "    </tr>\n",
       "    <tr>\n",
       "      <th>Total_calls_made</th>\n",
       "      <td>1.1526</td>\n",
       "      <td>-0.5339</td>\n",
       "      <td>-0.8743</td>\n",
       "      <td>-0.5738</td>\n",
       "    </tr>\n",
       "  </tbody>\n",
       "</table>\n",
       "</div>"
      ],
      "text/plain": [
       "                          0       1       2       3\n",
       "Avg_Credit_Limit    -0.7265  0.8389  1.9665 -0.7145\n",
       "Total_Credit_Cards  -1.0629  0.3886  1.8622  0.3500\n",
       "Total_visits_bank   -0.9045  0.6125 -1.1058  0.7312\n",
       "Total_visits_online  0.3254 -0.5584  2.8273 -0.5455\n",
       "Total_calls_made     1.1526 -0.5339 -0.8743 -0.5738"
      ]
     },
     "execution_count": 44,
     "metadata": {},
     "output_type": "execute_result"
    }
   ],
   "source": [
    "# Have a look at the centers of the cluster.\n",
    "centroids_k4 = model_k4.cluster_centers_\n",
    "centroids_df_k4 = pd.DataFrame(centroids_k4, columns=list(customerData_f))\n",
    "centroids_df_k4.transpose()"
   ]
  },
  {
   "cell_type": "code",
   "execution_count": 45,
   "metadata": {},
   "outputs": [],
   "source": [
    "# Cluster 2 has the highest average credit limit, while clusters 1 and 3 have very similar average credit limits.\n",
    "# Clusters 1 and 3 are very similar for all features except Avg credit card limit.\n",
    "# Clusters 1 and 3 seem to be people who like to go to the bank.\n",
    "# Cluster 2 seems to be people who make use of online banking.\n",
    "# Cluster 0 seems to be people who like to call the bank."
   ]
  },
  {
   "cell_type": "code",
   "execution_count": 46,
   "metadata": {},
   "outputs": [
    {
     "data": {
      "text/plain": [
       "array([[<matplotlib.axes._subplots.AxesSubplot object at 0x00000203C600ECC8>,\n",
       "        <matplotlib.axes._subplots.AxesSubplot object at 0x00000203C602BC48>,\n",
       "        <matplotlib.axes._subplots.AxesSubplot object at 0x00000203C6021588>],\n",
       "       [<matplotlib.axes._subplots.AxesSubplot object at 0x00000203C5C88E88>,\n",
       "        <matplotlib.axes._subplots.AxesSubplot object at 0x00000203C5CB7D88>,\n",
       "        <matplotlib.axes._subplots.AxesSubplot object at 0x00000203C5CF2508>]],\n",
       "      dtype=object)"
      ]
     },
     "execution_count": 46,
     "metadata": {},
     "output_type": "execute_result"
    },
    {
     "data": {
      "image/png": "[encoded data removed]",
      "text/plain": [
       "<Figure size 1080x720 with 6 Axes>"
      ]
     },
     "metadata": {
      "needs_background": "light"
     },
     "output_type": "display_data"
    }
   ],
   "source": [
    "# View the distributions of each feature within each cluster by means of a boxplot.\n",
    "customerData_k4.boxplot(by='Cluster', layout=(2,3), figsize=(15,10))"
   ]
  },
  {
   "cell_type": "code",
   "execution_count": 47,
   "metadata": {},
   "outputs": [],
   "source": [
    "# Cluster Observations.\n",
    "# Clusters 0 1 and 2 seem to coincide mostly with that of the k=3 clusters, except that cluster 1 has been split into 2 clusters which are now clusters 1 and 3.\n",
    "# There is a bit more overlapping of the clusters now.\n",
    "# Cluster 3: Characterised by high bank visits, low credit limits and intermediate amount of cards.\n",
    "#            These are probably old timers, they have a few credit cards because they're too nice to say no to the telemarketers who offer it to them, however,\n",
    "#            they keep their limits low because they don't really plan on using them. They go into the bank personally because they don't really know how else one\n",
    "#            would contact the bank."
   ]
  },
  {
   "cell_type": "code",
   "execution_count": 48,
   "metadata": {},
   "outputs": [],
   "source": [
    "# KMeans conclusion.\n",
    "# With k=3 the clusters are more distinct than with k=4.\n",
    "# However, with k=3 one of the clusters are much larger than the other 2 clusters.\n",
    "# The extra cluster from the k=4 cluster does seem to split the large cluster from the k=3 model quite well.\n",
    "# So if we had more demographic information we could decide that the large cluster from k=3 is too generalised and that we want to split it.\n",
    "# Then k=4 will come in handy.\n",
    "# For now K=3 is more distinct and we will stick with it. (We keep the boomers and old timers in one group)"
   ]
  },
  {
   "cell_type": "markdown",
   "metadata": {},
   "source": [
    "### Hierarchical Clustering"
   ]
  },
  {
   "cell_type": "code",
   "execution_count": 49,
   "metadata": {},
   "outputs": [
    {
     "data": {
      "text/html": [
       "<div>\n",
       "<style scoped>\n",
       "    .dataframe tbody tr th:only-of-type {\n",
       "        vertical-align: middle;\n",
       "    }\n",
       "\n",
       "    .dataframe tbody tr th {\n",
       "        vertical-align: top;\n",
       "    }\n",
       "\n",
       "    .dataframe thead th {\n",
       "        text-align: right;\n",
       "    }\n",
       "</style>\n",
       "<table border=\"1\" class=\"dataframe\">\n",
       "  <thead>\n",
       "    <tr style=\"text-align: right;\">\n",
       "      <th></th>\n",
       "      <th>CophCoeff</th>\n",
       "    </tr>\n",
       "  </thead>\n",
       "  <tbody>\n",
       "    <tr>\n",
       "      <th>ward</th>\n",
       "      <td>0.7465</td>\n",
       "    </tr>\n",
       "    <tr>\n",
       "      <th>complete</th>\n",
       "      <td>0.8381</td>\n",
       "    </tr>\n",
       "    <tr>\n",
       "      <th>average</th>\n",
       "      <td>0.8693</td>\n",
       "    </tr>\n",
       "    <tr>\n",
       "      <th>single</th>\n",
       "      <td>0.6936</td>\n",
       "    </tr>\n",
       "  </tbody>\n",
       "</table>\n",
       "</div>"
      ],
      "text/plain": [
       "          CophCoeff\n",
       "ward         0.7465\n",
       "complete     0.8381\n",
       "average      0.8693\n",
       "single       0.6936"
      ]
     },
     "execution_count": 49,
     "metadata": {},
     "output_type": "execute_result"
    },
    {
     "data": {
      "image/png": "[encoded data removed]",
      "text/plain": [
       "<Figure size 720x360 with 1 Axes>"
      ]
     },
     "metadata": {
      "needs_background": "light"
     },
     "output_type": "display_data"
    },
    {
     "data": {
      "image/png": "[encoded data removed]",
      "text/plain": [
       "<Figure size 720x360 with 1 Axes>"
      ]
     },
     "metadata": {
      "needs_background": "light"
     },
     "output_type": "display_data"
    },
    {
     "data": {
      "image/png": "[encoded data removed]",
      "text/plain": [
       "<Figure size 720x360 with 1 Axes>"
      ]
     },
     "metadata": {
      "needs_background": "light"
     },
     "output_type": "display_data"
    },
    {
     "data": {
      "image/png": "[encoded data removed]",
      "text/plain": [
       "<Figure size 720x360 with 1 Axes>"
      ]
     },
     "metadata": {
      "needs_background": "light"
     },
     "output_type": "display_data"
    }
   ],
   "source": [
    "linkageTypes = ['ward', 'complete', 'average', 'single']\n",
    "cophCoeff = [] # Cophenetic Coefficient\n",
    "\n",
    "for linkageType in linkageTypes:\n",
    "    Z = linkage(customerData_f, metric='euclidean', method=linkageType)\n",
    "    c, coph_dists = cophenet(Z , pdist(customerData_f))\n",
    "    cophCoeff.append(c)\n",
    "    \n",
    "    plt.figure(figsize=(10, 5))\n",
    "    plt.title(linkageType.capitalize() + \" Linkage Dendogram (C={:.4f})\".format(c))\n",
    "    plt.xlabel('sample index')\n",
    "    plt.ylabel('Distance')\n",
    "    # Create the dendrogram, just veiw 5 levels, otherwise it takes very long\n",
    "    dendrogram(Z, truncate_mode='level', p=5, leaf_rotation=90., leaf_font_size=8. )\n",
    "    plt.tight_layout()\n",
    "\n",
    "cophCoeff_df = pd.DataFrame(data=cophCoeff, columns=['CophCoeff'], index=linkageTypes)\n",
    "cophCoeff_df"
   ]
  },
  {
   "cell_type": "code",
   "execution_count": 50,
   "metadata": {},
   "outputs": [
    {
     "data": {
      "image/png": "[encoded data removed]",
      "text/plain": [
       "<Figure size 720x360 with 1 Axes>"
      ]
     },
     "metadata": {
      "needs_background": "light"
     },
     "output_type": "display_data"
    }
   ],
   "source": [
    "# The Average Linkage method has the best Cophenetic Coefficient.\n",
    "# From the average linkage dendogram we can see that after 3 clusters, there will be a cluster which only has 1 record.\n",
    "# So it does not make sense to use more than 3 clusters when using average linkage.\n",
    "# Draw the dendrogram for 3 clusters and average linkage.\n",
    "Z = linkage(customerData_f, metric='euclidean', method='average')\n",
    "\n",
    "plt.figure(figsize=(10, 5))\n",
    "plt.title(\"Average Linkage Dendogram for 3 Clusters (C={:.4f})\".format(cophCoeff_df.loc['average'][0]))\n",
    "plt.xlabel('sample index')\n",
    "plt.ylabel('Distance')\n",
    "# Create the dendrogram, just veiw 5 levels, otherwise it takes very long\n",
    "dendrogram(Z, truncate_mode='lastp', p=3, leaf_rotation=90., leaf_font_size=8. )\n",
    "plt.tight_layout()"
   ]
  },
  {
   "cell_type": "code",
   "execution_count": 51,
   "metadata": {},
   "outputs": [
    {
     "data": {
      "text/html": [
       "<div>\n",
       "<style scoped>\n",
       "    .dataframe tbody tr th:only-of-type {\n",
       "        vertical-align: middle;\n",
       "    }\n",
       "\n",
       "    .dataframe tbody tr th {\n",
       "        vertical-align: top;\n",
       "    }\n",
       "\n",
       "    .dataframe thead th {\n",
       "        text-align: right;\n",
       "    }\n",
       "</style>\n",
       "<table border=\"1\" class=\"dataframe\">\n",
       "  <thead>\n",
       "    <tr style=\"text-align: right;\">\n",
       "      <th></th>\n",
       "      <th>Avg_Credit_Limit</th>\n",
       "      <th>Total_Credit_Cards</th>\n",
       "      <th>Total_visits_bank</th>\n",
       "      <th>Total_visits_online</th>\n",
       "      <th>Total_calls_made</th>\n",
       "      <th>Cluster</th>\n",
       "    </tr>\n",
       "  </thead>\n",
       "  <tbody>\n",
       "    <tr>\n",
       "      <th>0</th>\n",
       "      <td>1.6305</td>\n",
       "      <td>-1.2492</td>\n",
       "      <td>-0.8605</td>\n",
       "      <td>-0.5475</td>\n",
       "      <td>-1.2515</td>\n",
       "      <td>2</td>\n",
       "    </tr>\n",
       "    <tr>\n",
       "      <th>1</th>\n",
       "      <td>0.8854</td>\n",
       "      <td>-0.7876</td>\n",
       "      <td>-1.4737</td>\n",
       "      <td>2.5205</td>\n",
       "      <td>1.8919</td>\n",
       "      <td>0</td>\n",
       "    </tr>\n",
       "    <tr>\n",
       "      <th>2</th>\n",
       "      <td>0.8854</td>\n",
       "      <td>1.0590</td>\n",
       "      <td>-0.8605</td>\n",
       "      <td>0.1343</td>\n",
       "      <td>0.1455</td>\n",
       "      <td>2</td>\n",
       "    </tr>\n",
       "  </tbody>\n",
       "</table>\n",
       "</div>"
      ],
      "text/plain": [
       "   Avg_Credit_Limit  Total_Credit_Cards  Total_visits_bank  \\\n",
       "0            1.6305             -1.2492            -0.8605   \n",
       "1            0.8854             -0.7876            -1.4737   \n",
       "2            0.8854              1.0590            -0.8605   \n",
       "\n",
       "   Total_visits_online  Total_calls_made  Cluster  \n",
       "0              -0.5475           -1.2515        2  \n",
       "1               2.5205            1.8919        0  \n",
       "2               0.1343            0.1455        2  "
      ]
     },
     "execution_count": 51,
     "metadata": {},
     "output_type": "execute_result"
    }
   ],
   "source": [
    "# Create an agglomerative clustering model with average linkage and 3 clusters.\n",
    "model_avg3 = AgglomerativeClustering(n_clusters=3, affinity='euclidean',  linkage='average')\n",
    "model_avg3.fit(customerData_f)\n",
    "# Add the labels to the customerData.\n",
    "customerData_avg3 = customerData_f.copy()\n",
    "customerData_avg3['Cluster'] = model_avg3.labels_\n",
    "customerData_avg3.head(3)"
   ]
  },
  {
   "cell_type": "code",
   "execution_count": 52,
   "metadata": {},
   "outputs": [
    {
     "data": {
      "text/html": [
       "<div>\n",
       "<style scoped>\n",
       "    .dataframe tbody tr th:only-of-type {\n",
       "        vertical-align: middle;\n",
       "    }\n",
       "\n",
       "    .dataframe tbody tr th {\n",
       "        vertical-align: top;\n",
       "    }\n",
       "\n",
       "    .dataframe thead th {\n",
       "        text-align: right;\n",
       "    }\n",
       "</style>\n",
       "<table border=\"1\" class=\"dataframe\">\n",
       "  <thead>\n",
       "    <tr style=\"text-align: right;\">\n",
       "      <th></th>\n",
       "      <th>Avg_Credit_Limit</th>\n",
       "      <th>Total_Credit_Cards</th>\n",
       "      <th>Total_visits_bank</th>\n",
       "      <th>Total_visits_online</th>\n",
       "      <th>Total_calls_made</th>\n",
       "      <th>Cluster</th>\n",
       "    </tr>\n",
       "  </thead>\n",
       "  <tbody>\n",
       "    <tr>\n",
       "      <th>0</th>\n",
       "      <td>1.6305</td>\n",
       "      <td>-1.2492</td>\n",
       "      <td>-0.8605</td>\n",
       "      <td>-0.5475</td>\n",
       "      <td>-1.2515</td>\n",
       "      <td>0</td>\n",
       "    </tr>\n",
       "    <tr>\n",
       "      <th>1</th>\n",
       "      <td>0.8854</td>\n",
       "      <td>-0.7876</td>\n",
       "      <td>-1.4737</td>\n",
       "      <td>2.5205</td>\n",
       "      <td>1.8919</td>\n",
       "      <td>2</td>\n",
       "    </tr>\n",
       "    <tr>\n",
       "      <th>2</th>\n",
       "      <td>0.8854</td>\n",
       "      <td>1.0590</td>\n",
       "      <td>-0.8605</td>\n",
       "      <td>0.1343</td>\n",
       "      <td>0.1455</td>\n",
       "      <td>0</td>\n",
       "    </tr>\n",
       "  </tbody>\n",
       "</table>\n",
       "</div>"
      ],
      "text/plain": [
       "   Avg_Credit_Limit  Total_Credit_Cards  Total_visits_bank  \\\n",
       "0            1.6305             -1.2492            -0.8605   \n",
       "1            0.8854             -0.7876            -1.4737   \n",
       "2            0.8854              1.0590            -0.8605   \n",
       "\n",
       "   Total_visits_online  Total_calls_made  Cluster  \n",
       "0              -0.5475           -1.2515        0  \n",
       "1               2.5205            1.8919        2  \n",
       "2               0.1343            0.1455        0  "
      ]
     },
     "execution_count": 52,
     "metadata": {},
     "output_type": "execute_result"
    }
   ],
   "source": [
    "# For the sake of completeness, make a model with complete linkage as well, because complete linkage cophenetic coefficient is also high.\n",
    "# Create an agglomerative clustering model with average linkage and 3 clusters.\n",
    "model_comp3 = AgglomerativeClustering(n_clusters=3, affinity='euclidean',  linkage='complete')\n",
    "model_comp3.fit(customerData_f)\n",
    "# Add the labels to the customerData.\n",
    "customerData_comp3 = customerData_f.copy()\n",
    "customerData_comp3['Cluster'] = model_comp3.labels_\n",
    "customerData_comp3.head(3)"
   ]
  },
  {
   "cell_type": "code",
   "execution_count": 53,
   "metadata": {
    "scrolled": false
   },
   "outputs": [
    {
     "data": {
      "text/html": [
       "<div>\n",
       "<style scoped>\n",
       "    .dataframe tbody tr th:only-of-type {\n",
       "        vertical-align: middle;\n",
       "    }\n",
       "\n",
       "    .dataframe tbody tr th {\n",
       "        vertical-align: top;\n",
       "    }\n",
       "\n",
       "    .dataframe thead th {\n",
       "        text-align: right;\n",
       "    }\n",
       "</style>\n",
       "<table border=\"1\" class=\"dataframe\">\n",
       "  <thead>\n",
       "    <tr style=\"text-align: right;\">\n",
       "      <th></th>\n",
       "      <th>Avg_Credit_Limit</th>\n",
       "      <th>Total_Credit_Cards</th>\n",
       "      <th>Total_visits_bank</th>\n",
       "      <th>Total_visits_online</th>\n",
       "      <th>Total_calls_made</th>\n",
       "    </tr>\n",
       "    <tr>\n",
       "      <th>Cluster</th>\n",
       "      <th></th>\n",
       "      <th></th>\n",
       "      <th></th>\n",
       "      <th></th>\n",
       "      <th></th>\n",
       "    </tr>\n",
       "  </thead>\n",
       "  <tbody>\n",
       "    <tr>\n",
       "      <th>0</th>\n",
       "      <td>220</td>\n",
       "      <td>220</td>\n",
       "      <td>220</td>\n",
       "      <td>220</td>\n",
       "      <td>220</td>\n",
       "    </tr>\n",
       "    <tr>\n",
       "      <th>1</th>\n",
       "      <td>50</td>\n",
       "      <td>50</td>\n",
       "      <td>50</td>\n",
       "      <td>50</td>\n",
       "      <td>50</td>\n",
       "    </tr>\n",
       "    <tr>\n",
       "      <th>2</th>\n",
       "      <td>390</td>\n",
       "      <td>390</td>\n",
       "      <td>390</td>\n",
       "      <td>390</td>\n",
       "      <td>390</td>\n",
       "    </tr>\n",
       "  </tbody>\n",
       "</table>\n",
       "</div>"
      ],
      "text/plain": [
       "         Avg_Credit_Limit  Total_Credit_Cards  Total_visits_bank  \\\n",
       "Cluster                                                            \n",
       "0                     220                 220                220   \n",
       "1                      50                  50                 50   \n",
       "2                     390                 390                390   \n",
       "\n",
       "         Total_visits_online  Total_calls_made  \n",
       "Cluster                                         \n",
       "0                        220               220  \n",
       "1                         50                50  \n",
       "2                        390               390  "
      ]
     },
     "execution_count": 53,
     "metadata": {},
     "output_type": "execute_result"
    }
   ],
   "source": [
    "# Have a look how many records are in each cluster for average linkage. We can actaully see this from the dendrogram.\n",
    "customerData_avg3.groupby(['Cluster']).count()"
   ]
  },
  {
   "cell_type": "code",
   "execution_count": 54,
   "metadata": {},
   "outputs": [
    {
     "data": {
      "text/html": [
       "<div>\n",
       "<style scoped>\n",
       "    .dataframe tbody tr th:only-of-type {\n",
       "        vertical-align: middle;\n",
       "    }\n",
       "\n",
       "    .dataframe tbody tr th {\n",
       "        vertical-align: top;\n",
       "    }\n",
       "\n",
       "    .dataframe thead th {\n",
       "        text-align: right;\n",
       "    }\n",
       "</style>\n",
       "<table border=\"1\" class=\"dataframe\">\n",
       "  <thead>\n",
       "    <tr style=\"text-align: right;\">\n",
       "      <th></th>\n",
       "      <th>Avg_Credit_Limit</th>\n",
       "      <th>Total_Credit_Cards</th>\n",
       "      <th>Total_visits_bank</th>\n",
       "      <th>Total_visits_online</th>\n",
       "      <th>Total_calls_made</th>\n",
       "    </tr>\n",
       "    <tr>\n",
       "      <th>Cluster</th>\n",
       "      <th></th>\n",
       "      <th></th>\n",
       "      <th></th>\n",
       "      <th></th>\n",
       "      <th></th>\n",
       "    </tr>\n",
       "  </thead>\n",
       "  <tbody>\n",
       "    <tr>\n",
       "      <th>0</th>\n",
       "      <td>387</td>\n",
       "      <td>387</td>\n",
       "      <td>387</td>\n",
       "      <td>387</td>\n",
       "      <td>387</td>\n",
       "    </tr>\n",
       "    <tr>\n",
       "      <th>1</th>\n",
       "      <td>50</td>\n",
       "      <td>50</td>\n",
       "      <td>50</td>\n",
       "      <td>50</td>\n",
       "      <td>50</td>\n",
       "    </tr>\n",
       "    <tr>\n",
       "      <th>2</th>\n",
       "      <td>223</td>\n",
       "      <td>223</td>\n",
       "      <td>223</td>\n",
       "      <td>223</td>\n",
       "      <td>223</td>\n",
       "    </tr>\n",
       "  </tbody>\n",
       "</table>\n",
       "</div>"
      ],
      "text/plain": [
       "         Avg_Credit_Limit  Total_Credit_Cards  Total_visits_bank  \\\n",
       "Cluster                                                            \n",
       "0                     387                 387                387   \n",
       "1                      50                  50                 50   \n",
       "2                     223                 223                223   \n",
       "\n",
       "         Total_visits_online  Total_calls_made  \n",
       "Cluster                                         \n",
       "0                        387               387  \n",
       "1                         50                50  \n",
       "2                        223               223  "
      ]
     },
     "execution_count": 54,
     "metadata": {},
     "output_type": "execute_result"
    }
   ],
   "source": [
    "# Have a look how many records are in each cluster for complete linkage. We can actaully see this from the dendrogram.\n",
    "customerData_comp3.groupby(['Cluster']).count()"
   ]
  },
  {
   "cell_type": "code",
   "execution_count": 55,
   "metadata": {},
   "outputs": [],
   "source": [
    "# One can see that the clusters are very similar.\n",
    "# These amounts are very similar to those from the KMeans clustering with k=3."
   ]
  },
  {
   "cell_type": "code",
   "execution_count": 56,
   "metadata": {},
   "outputs": [
    {
     "data": {
      "text/plain": [
       "array([[<matplotlib.axes._subplots.AxesSubplot object at 0x00000203C69B2188>,\n",
       "        <matplotlib.axes._subplots.AxesSubplot object at 0x00000203C69DC748>,\n",
       "        <matplotlib.axes._subplots.AxesSubplot object at 0x00000203C662FFC8>],\n",
       "       [<matplotlib.axes._subplots.AxesSubplot object at 0x00000203C6A4C208>,\n",
       "        <matplotlib.axes._subplots.AxesSubplot object at 0x00000203C6A85048>,\n",
       "        <matplotlib.axes._subplots.AxesSubplot object at 0x00000203C6AB6E88>]],\n",
       "      dtype=object)"
      ]
     },
     "execution_count": 56,
     "metadata": {},
     "output_type": "execute_result"
    },
    {
     "data": {
      "image/png": "[encoded data removed]",
      "text/plain": [
       "<Figure size 1080x720 with 6 Axes>"
      ]
     },
     "metadata": {
      "needs_background": "light"
     },
     "output_type": "display_data"
    }
   ],
   "source": [
    "# View the distributions of each feature within each cluster for average linkage.\n",
    "customerData_avg3.boxplot(by='Cluster', layout=(2,3), figsize=(15,10))"
   ]
  },
  {
   "cell_type": "code",
   "execution_count": 57,
   "metadata": {},
   "outputs": [
    {
     "data": {
      "text/plain": [
       "array([[<matplotlib.axes._subplots.AxesSubplot object at 0x00000203C6C3B408>,\n",
       "        <matplotlib.axes._subplots.AxesSubplot object at 0x00000203C82CEB48>,\n",
       "        <matplotlib.axes._subplots.AxesSubplot object at 0x00000203C7EAD948>],\n",
       "       [<matplotlib.axes._subplots.AxesSubplot object at 0x00000203C7F20708>,\n",
       "        <matplotlib.axes._subplots.AxesSubplot object at 0x00000203C7F55E48>,\n",
       "        <matplotlib.axes._subplots.AxesSubplot object at 0x00000203C7F8E588>]],\n",
       "      dtype=object)"
      ]
     },
     "execution_count": 57,
     "metadata": {},
     "output_type": "execute_result"
    },
    {
     "data": {
      "image/png": "[encoded data removed]",
      "text/plain": [
       "<Figure size 1080x720 with 6 Axes>"
      ]
     },
     "metadata": {
      "needs_background": "light"
     },
     "output_type": "display_data"
    }
   ],
   "source": [
    "# View the distributions of each feature within each cluster for average linkage.\n",
    "customerData_comp3.boxplot(by='Cluster', layout=(2,3), figsize=(15,10))"
   ]
  },
  {
   "cell_type": "code",
   "execution_count": 58,
   "metadata": {},
   "outputs": [],
   "source": [
    "# Both agglomerative cluster distributions look very similar. The linkage only affects the clustering mildly for 3 clusters.\n",
    "# These distributions look very similar to the KMeans distributions with k=3."
   ]
  },
  {
   "cell_type": "code",
   "execution_count": 59,
   "metadata": {},
   "outputs": [
    {
     "data": {
      "text/html": [
       "<div>\n",
       "<style scoped>\n",
       "    .dataframe tbody tr th:only-of-type {\n",
       "        vertical-align: middle;\n",
       "    }\n",
       "\n",
       "    .dataframe tbody tr th {\n",
       "        vertical-align: top;\n",
       "    }\n",
       "\n",
       "    .dataframe thead th {\n",
       "        text-align: right;\n",
       "    }\n",
       "</style>\n",
       "<table border=\"1\" class=\"dataframe\">\n",
       "  <thead>\n",
       "    <tr style=\"text-align: right;\">\n",
       "      <th></th>\n",
       "      <th>Avg_Credit_Limit</th>\n",
       "      <th>Total_Credit_Cards</th>\n",
       "      <th>Total_visits_bank</th>\n",
       "      <th>Total_visits_online</th>\n",
       "      <th>Total_calls_made</th>\n",
       "      <th>Cluster</th>\n",
       "    </tr>\n",
       "  </thead>\n",
       "  <tbody>\n",
       "    <tr>\n",
       "      <th>0</th>\n",
       "      <td>1.6305</td>\n",
       "      <td>-1.2492</td>\n",
       "      <td>-0.8605</td>\n",
       "      <td>-0.5475</td>\n",
       "      <td>-1.2515</td>\n",
       "      <td>3</td>\n",
       "    </tr>\n",
       "    <tr>\n",
       "      <th>1</th>\n",
       "      <td>0.8854</td>\n",
       "      <td>-0.7876</td>\n",
       "      <td>-1.4737</td>\n",
       "      <td>2.5205</td>\n",
       "      <td>1.8919</td>\n",
       "      <td>0</td>\n",
       "    </tr>\n",
       "    <tr>\n",
       "      <th>2</th>\n",
       "      <td>0.8854</td>\n",
       "      <td>1.0590</td>\n",
       "      <td>-0.8605</td>\n",
       "      <td>0.1343</td>\n",
       "      <td>0.1455</td>\n",
       "      <td>3</td>\n",
       "    </tr>\n",
       "  </tbody>\n",
       "</table>\n",
       "</div>"
      ],
      "text/plain": [
       "   Avg_Credit_Limit  Total_Credit_Cards  Total_visits_bank  \\\n",
       "0            1.6305             -1.2492            -0.8605   \n",
       "1            0.8854             -0.7876            -1.4737   \n",
       "2            0.8854              1.0590            -0.8605   \n",
       "\n",
       "   Total_visits_online  Total_calls_made  Cluster  \n",
       "0              -0.5475           -1.2515        3  \n",
       "1               2.5205            1.8919        0  \n",
       "2               0.1343            0.1455        3  "
      ]
     },
     "execution_count": 59,
     "metadata": {},
     "output_type": "execute_result"
    }
   ],
   "source": [
    "# Also do agglomerative clustering for 4 clusters.\n",
    "# Use complete linkage for agglomerative clustering with 4 clusters.\n",
    "# Because average linkage has a cluster with only 1 record for 4 cluster.\n",
    "# For the sake of completeness, make a model with complete linkage as well, because complete linkage cophenetic coefficient is also high.\n",
    "# Create an agglomerative clustering model with average linkage and 3 clusters.\n",
    "model_comp4 = AgglomerativeClustering(n_clusters=4, affinity='euclidean',  linkage='complete')\n",
    "model_comp4.fit(customerData_f)\n",
    "# Add the labels to the customerData.\n",
    "customerData_comp4 = customerData_f.copy()\n",
    "customerData_comp4['Cluster'] = model_comp4.labels_\n",
    "customerData_comp4.head(3)"
   ]
  },
  {
   "cell_type": "code",
   "execution_count": 60,
   "metadata": {},
   "outputs": [
    {
     "data": {
      "text/html": [
       "<div>\n",
       "<style scoped>\n",
       "    .dataframe tbody tr th:only-of-type {\n",
       "        vertical-align: middle;\n",
       "    }\n",
       "\n",
       "    .dataframe tbody tr th {\n",
       "        vertical-align: top;\n",
       "    }\n",
       "\n",
       "    .dataframe thead th {\n",
       "        text-align: right;\n",
       "    }\n",
       "</style>\n",
       "<table border=\"1\" class=\"dataframe\">\n",
       "  <thead>\n",
       "    <tr style=\"text-align: right;\">\n",
       "      <th></th>\n",
       "      <th>Avg_Credit_Limit</th>\n",
       "      <th>Total_Credit_Cards</th>\n",
       "      <th>Total_visits_bank</th>\n",
       "      <th>Total_visits_online</th>\n",
       "      <th>Total_calls_made</th>\n",
       "    </tr>\n",
       "    <tr>\n",
       "      <th>Cluster</th>\n",
       "      <th></th>\n",
       "      <th></th>\n",
       "      <th></th>\n",
       "      <th></th>\n",
       "      <th></th>\n",
       "    </tr>\n",
       "  </thead>\n",
       "  <tbody>\n",
       "    <tr>\n",
       "      <th>0</th>\n",
       "      <td>223</td>\n",
       "      <td>223</td>\n",
       "      <td>223</td>\n",
       "      <td>223</td>\n",
       "      <td>223</td>\n",
       "    </tr>\n",
       "    <tr>\n",
       "      <th>1</th>\n",
       "      <td>50</td>\n",
       "      <td>50</td>\n",
       "      <td>50</td>\n",
       "      <td>50</td>\n",
       "      <td>50</td>\n",
       "    </tr>\n",
       "    <tr>\n",
       "      <th>2</th>\n",
       "      <td>271</td>\n",
       "      <td>271</td>\n",
       "      <td>271</td>\n",
       "      <td>271</td>\n",
       "      <td>271</td>\n",
       "    </tr>\n",
       "    <tr>\n",
       "      <th>3</th>\n",
       "      <td>116</td>\n",
       "      <td>116</td>\n",
       "      <td>116</td>\n",
       "      <td>116</td>\n",
       "      <td>116</td>\n",
       "    </tr>\n",
       "  </tbody>\n",
       "</table>\n",
       "</div>"
      ],
      "text/plain": [
       "         Avg_Credit_Limit  Total_Credit_Cards  Total_visits_bank  \\\n",
       "Cluster                                                            \n",
       "0                     223                 223                223   \n",
       "1                      50                  50                 50   \n",
       "2                     271                 271                271   \n",
       "3                     116                 116                116   \n",
       "\n",
       "         Total_visits_online  Total_calls_made  \n",
       "Cluster                                         \n",
       "0                        223               223  \n",
       "1                         50                50  \n",
       "2                        271               271  \n",
       "3                        116               116  "
      ]
     },
     "execution_count": 60,
     "metadata": {},
     "output_type": "execute_result"
    }
   ],
   "source": [
    "# Have a look how many records are in each cluster for complete linkage. We can actaully see this from the dendrogram.\n",
    "customerData_comp4.groupby(['Cluster']).count()"
   ]
  },
  {
   "cell_type": "code",
   "execution_count": 61,
   "metadata": {},
   "outputs": [],
   "source": [
    "# Two of the clusters differ quite a bit from the KMeans with k=4 clustering.\n",
    "# It can be seen that about 50 records have been moved from one cluster to the other.\n",
    "# Meaning that the cluster with 271 records here only had 219 records with the KMeans method and the cluster that has 116 records here had 168 records with kmenas.\n",
    "# This is interesting."
   ]
  },
  {
   "cell_type": "code",
   "execution_count": 62,
   "metadata": {},
   "outputs": [
    {
     "data": {
      "text/plain": [
       "array([[<matplotlib.axes._subplots.AxesSubplot object at 0x00000203C65D5288>,\n",
       "        <matplotlib.axes._subplots.AxesSubplot object at 0x00000203C64E9B88>,\n",
       "        <matplotlib.axes._subplots.AxesSubplot object at 0x00000203C65D5388>],\n",
       "       [<matplotlib.axes._subplots.AxesSubplot object at 0x00000203C67615C8>,\n",
       "        <matplotlib.axes._subplots.AxesSubplot object at 0x00000203C648E408>,\n",
       "        <matplotlib.axes._subplots.AxesSubplot object at 0x00000203C64FEB08>]],\n",
       "      dtype=object)"
      ]
     },
     "execution_count": 62,
     "metadata": {},
     "output_type": "execute_result"
    },
    {
     "data": {
      "image/png": "[encoded data removed]",
      "text/plain": [
       "<Figure size 1080x720 with 6 Axes>"
      ]
     },
     "metadata": {
      "needs_background": "light"
     },
     "output_type": "display_data"
    }
   ],
   "source": [
    "# View the distributions of each feature within each cluster for average linkage.\n",
    "customerData_comp4.boxplot(by='Cluster', layout=(2,3), figsize=(15,10))"
   ]
  },
  {
   "cell_type": "code",
   "execution_count": 63,
   "metadata": {},
   "outputs": [],
   "source": [
    "# The group with low credit limit and low number of cards has stayed similar to that of the KMeans method.\n",
    "# The group with high credit limit and high number of cards has stayed similar to that of the KMeans method.\n",
    "# The groups with mid range credit limits and card numbers have been split differently from the KMeans method.\n",
    "# For the agglomerative method, the mid range groups seem to overlap slightly on all features.\n",
    "# For the KMeans method, the mid range groups have non overlapping credit limits, but the rest of the features overlap.\n",
    "# So it seems that the KMeans method clusters are more distinctive for 4 clusters."
   ]
  },
  {
   "cell_type": "markdown",
   "metadata": {},
   "source": [
    "### Method Comparison"
   ]
  },
  {
   "cell_type": "code",
   "execution_count": 64,
   "metadata": {},
   "outputs": [
    {
     "data": {
      "text/plain": [
       "{'Method': ['KMeans3', 'AggAvg3', 'AggComp3', 'KMeans4', 'AggComp4'],\n",
       " 'Num Clusters': [3, 3, 3, 4, 4],\n",
       " 'Silhouette Score': [0.4930010449995642,\n",
       "  0.49034360706924646,\n",
       "  0.492940751274099,\n",
       "  0.3849070337583928,\n",
       "  0.3078022092266158]}"
      ]
     },
     "execution_count": 64,
     "metadata": {},
     "output_type": "execute_result"
    }
   ],
   "source": [
    "# Find the silhouette scores for all the methods and compare them/\n",
    "\n",
    "# Find the silhouette score for the KMeans with k=3 method.\n",
    "silScore_k3 = silhouette_score(customerData_f, model_k3.labels_)\n",
    "# Find the silhouette score for the agglomerative clustering method.\n",
    "silScore_avg3 = silhouette_score(customerData_f, model_avg3.labels_)\n",
    "# Find the silhouette score for the agglomerative clustering method.\n",
    "silScore_comp3 = silhouette_score(customerData_f, model_comp3.labels_)\n",
    "# Find the silhouette score for the KMeans with k=4 method, just to check if it is better or not.\n",
    "silScore_k4 = silhouette_score(customerData_f, model_k4.labels_)\n",
    "# Find the silhouette score for the agglomerative clustering method.\n",
    "silScore_comp4 = silhouette_score(customerData_f, model_comp4.labels_)\n",
    "\n",
    "# Create a dictionary with all the values in arrays.\n",
    "methods = [\"KMeans3\", \"AggAvg3\", \"AggComp3\", \"KMeans4\", \"AggComp4\"]\n",
    "clusters = [3, 3, 3, 4, 4]\n",
    "silScores = [silScore_k3, silScore_avg3, silScore_comp3, silScore_k4, silScore_comp4]\n",
    "comparison_dict = {\"Method\":methods, \"Num Clusters\":clusters, \"Silhouette Score\":silScores}\n",
    "comparison_dict"
   ]
  },
  {
   "cell_type": "code",
   "execution_count": 65,
   "metadata": {},
   "outputs": [
    {
     "data": {
      "text/html": [
       "<div>\n",
       "<style scoped>\n",
       "    .dataframe tbody tr th:only-of-type {\n",
       "        vertical-align: middle;\n",
       "    }\n",
       "\n",
       "    .dataframe tbody tr th {\n",
       "        vertical-align: top;\n",
       "    }\n",
       "\n",
       "    .dataframe thead th {\n",
       "        text-align: right;\n",
       "    }\n",
       "</style>\n",
       "<table border=\"1\" class=\"dataframe\">\n",
       "  <thead>\n",
       "    <tr style=\"text-align: right;\">\n",
       "      <th></th>\n",
       "      <th>Method</th>\n",
       "      <th>Num Clusters</th>\n",
       "      <th>Silhouette Score</th>\n",
       "    </tr>\n",
       "  </thead>\n",
       "  <tbody>\n",
       "    <tr>\n",
       "      <th>0</th>\n",
       "      <td>KMeans3</td>\n",
       "      <td>3</td>\n",
       "      <td>0.4930</td>\n",
       "    </tr>\n",
       "    <tr>\n",
       "      <th>1</th>\n",
       "      <td>AggAvg3</td>\n",
       "      <td>3</td>\n",
       "      <td>0.4903</td>\n",
       "    </tr>\n",
       "    <tr>\n",
       "      <th>2</th>\n",
       "      <td>AggComp3</td>\n",
       "      <td>3</td>\n",
       "      <td>0.4929</td>\n",
       "    </tr>\n",
       "    <tr>\n",
       "      <th>3</th>\n",
       "      <td>KMeans4</td>\n",
       "      <td>4</td>\n",
       "      <td>0.3849</td>\n",
       "    </tr>\n",
       "    <tr>\n",
       "      <th>4</th>\n",
       "      <td>AggComp4</td>\n",
       "      <td>4</td>\n",
       "      <td>0.3078</td>\n",
       "    </tr>\n",
       "  </tbody>\n",
       "</table>\n",
       "</div>"
      ],
      "text/plain": [
       "     Method  Num Clusters  Silhouette Score\n",
       "0   KMeans3             3            0.4930\n",
       "1   AggAvg3             3            0.4903\n",
       "2  AggComp3             3            0.4929\n",
       "3   KMeans4             4            0.3849\n",
       "4  AggComp4             4            0.3078"
      ]
     },
     "execution_count": 65,
     "metadata": {},
     "output_type": "execute_result"
    }
   ],
   "source": [
    "# Create a dataframe to compare all the silhouette scores.\n",
    "comparison_df = pd.DataFrame(comparison_dict)\n",
    "comparison_df"
   ]
  },
  {
   "cell_type": "code",
   "execution_count": 66,
   "metadata": {},
   "outputs": [],
   "source": [
    "# The methods whith 3 clusters have much better silhouette scores than the methods with 4 clusters.\n",
    "# This confirms that 3 clusters are more distinct than 4 clusters.\n",
    "# KMeans with k=3 clustering performed the best of all the methods.\n",
    "# Agglomerative clustering with 3 complete linkage and 3 clusters is basically just as good as the KMeans method.\n",
    "# Surprisingly the model with complete linkage has a higher silhouette score than the model with average linkage,\n",
    "# despite the fact the average linkage has the bes cophenetic coeeficient."
   ]
  },
  {
   "cell_type": "markdown",
   "metadata": {},
   "source": [
    "### Final Clustering Model"
   ]
  },
  {
   "cell_type": "code",
   "execution_count": 67,
   "metadata": {},
   "outputs": [
    {
     "data": {
      "text/plain": [
       "array([[<matplotlib.axes._subplots.AxesSubplot object at 0x00000203C87D7488>,\n",
       "        <matplotlib.axes._subplots.AxesSubplot object at 0x00000203C87F7A08>,\n",
       "        <matplotlib.axes._subplots.AxesSubplot object at 0x00000203C87D7908>],\n",
       "       [<matplotlib.axes._subplots.AxesSubplot object at 0x00000203C8AB78C8>,\n",
       "        <matplotlib.axes._subplots.AxesSubplot object at 0x00000203C8AECFC8>,\n",
       "        <matplotlib.axes._subplots.AxesSubplot object at 0x00000203C8B26708>]],\n",
       "      dtype=object)"
      ]
     },
     "execution_count": 67,
     "metadata": {},
     "output_type": "execute_result"
    },
    {
     "data": {
      "image/png": "[encoded data removed]",
      "text/plain": [
       "<Figure size 1080x720 with 6 Axes>"
      ]
     },
     "metadata": {
      "needs_background": "light"
     },
     "output_type": "display_data"
    }
   ],
   "source": [
    "# The best clustering model was the Kmeans model with k=3.\n",
    "# Display the box plots here again.\n",
    "# View the distributions of each feature within each cluster by means of a boxplot.\n",
    "customerData_k3.boxplot(by='Cluster', layout=(2,3), figsize=(15,10))"
   ]
  },
  {
   "cell_type": "markdown",
   "metadata": {},
   "source": [
    "#### Final analysis\n",
    "- The clusters are quite distinct and there is not that much overlapping of features.\n",
    "- The model was able to seperate the clusters into different distributions of Avg_Credit_Limit and Total_Credit_Cards.\n",
    "- The clusters are quite clearly sparated by contact medium, meaning that each cluster clearly has a favourite method of contacting the bank.\n",
    "- This implies that there is a definate between the credit limit and number of cards a customer has and the method by which a customer prefers to contact the bank.\n",
    "- People with high limit and high number of cards prefer to use online banking.\n",
    "- People with mid range credit limits and card numbers prefer to vist the bank personally.\n",
    "- People with low credit limits and low number of cards prefer to call the bank."
   ]
  }
 ],
 "metadata": {
  "kernelspec": {
   "display_name": "Python 3",
   "language": "python",
   "name": "python3"
  },
  "language_info": {
   "codemirror_mode": {
    "name": "ipython",
    "version": 3
   },
   "file_extension": ".py",
   "mimetype": "text/x-python",
   "name": "python",
   "nbconvert_exporter": "python",
   "pygments_lexer": "ipython3",
   "version": "3.7.4"
  }
 },
 "nbformat": 4,
 "nbformat_minor": 4
}
